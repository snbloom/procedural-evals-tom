{
 "cells": [
  {
   "cell_type": "code",
   "execution_count": 48,
   "metadata": {},
   "outputs": [],
   "source": [
    "import os\n",
    "import csv\n",
    "\n",
    "def get_tiny_tom(config):\n",
    "    tinytom = {}\n",
    "\n",
    "    for cond in config[\"conditions\"]:\n",
    "        tinytom[cond] = []\n",
    "        final_sentences = []\n",
    "        with open(os.path.join(config[\"tom_data_dir\"], cond, config[\"condition_file\"]), 'r') as f:\n",
    "            reader = csv.reader(f, delimiter=';')\n",
    "            for row in reader:\n",
    "                final_sentences.append(row[2])\n",
    "        with open(os.path.join(config[\"tom_data_dir\"], cond, config[\"story_file\"]), 'r') as f:\n",
    "            lines = f.readlines()\n",
    "            for i, line in enumerate(lines):\n",
    "                text = line.strip()\n",
    "                last_period_index = text.strip().rfind(\".\")\n",
    "                story = text[:last_period_index+1]\n",
    "                final_sentence = final_sentences[i]\n",
    "                if 'believe' in final_sentence:\n",
    "                    final_sentence = final_sentence.replace('believe', 'think')\n",
    "                story = story + \" \" + final_sentences[i]\n",
    "                tinytom[cond].append(story)\n",
    "    # TODO: ensure all conditions are shuffled in the same order\n",
    "    # keeping unshuffled for now\n",
    "    return tinytom"
   ]
  },
  {
   "cell_type": "code",
   "execution_count": 49,
   "metadata": {},
   "outputs": [
    {
     "name": "stdout",
     "output_type": "stream",
     "text": [
      "Number of tinytom stories: 2600\n"
     ]
    }
   ],
   "source": [
    "config = {\"tom_data_dir\": \"../../data/conditions/tinytom\",\n",
    "    \"condition_file\": \"stories.csv\",\n",
    "    \"story_file\": \"converted.txt\",\n",
    "    \"conditions\": [\"0_forward_belief_true_belief\",\n",
    "                \"0_forward_belief_false_belief\",\n",
    "                \"1_forward_belief_true_belief\",\n",
    "                \"1_forward_belief_false_belief\"],\n",
    "}\n",
    "tinytom = get_tiny_tom(config)\n",
    "num_tiny_tom = sum([len(tinytom[cond]) for cond in config[\"conditions\"]])\n",
    "print(\"Number of tinytom stories: {}\".format(num_tiny_tom))"
   ]
  },
  {
   "cell_type": "code",
   "execution_count": 50,
   "metadata": {},
   "outputs": [
    {
     "name": "stdout",
     "output_type": "stream",
     "text": [
      "Splitting into train and val\n",
      "Offset: 0 Num Train: 100\n",
      "Offset: 0 Num Train: 100\n",
      "Offset: 0 Num Train: 100\n",
      "Offset: 0 Num Train: 100\n"
     ]
    }
   ],
   "source": [
    "raw_datasets = {'train': [], 'val_tom': []}\n",
    "print(\"Splitting into train and val\")\n",
    "for cond in config[\"conditions\"]:\n",
    "    # num_train = int(len(tinytom[cond]) * config[\"train_ratio\"])\n",
    "    # num_val = len(tinytom[cond]) - num_train\n",
    "    # raw_datasets['train'] += [{\"content\": s} for s in tinytom[cond][:num_train]]\n",
    "    # raw_datasets['val_tom'] += [{\"content\": s} for s in tinytom[cond][num_train:]]\n",
    "    offset = 0\n",
    "    num_train = 100\n",
    "    print(\"Offset:\", offset, \"Num Train:\", num_train)\n",
    "    num_val = offset\n",
    "    raw_datasets['train'] += [{\"content\": s} for s in tinytom[cond][offset:offset+num_train]]\n",
    "    raw_datasets['val_tom'] += [{\"content\": s} for s in tinytom[cond][:offset]]\n",
    "\n"
   ]
  },
  {
   "cell_type": "code",
   "execution_count": 51,
   "metadata": {},
   "outputs": [
    {
     "name": "stdout",
     "output_type": "stream",
     "text": [
      "Once upon a time, in a cozy little room, lived a girl named Nala. She was all tucked in, ready for a peaceful night's sleep. She wished for sweet dreams, no scary nightmares tonight! Her room door was safely locked. With a giggle, her baby brother found the extra key. He used it to open the door to her room, just like in a game of hide and seek. Nala hears her brother unlocking the door. Nala believes the door to her room is unlocked.\n",
      "Once upon a time, in a cozy little room, lived a girl named Nala. She was all tucked in, ready for a peaceful night's sleep. She wished for sweet dreams, no scary nightmares tonight! Her room door was safely locked.  Nala believes the door to her room is locked. With a giggle, her baby brother found the extra key. He used it to open the door to her room, just like in a game of hide and seek. Nala doesn't hear her brother unlocking the door as she is listening to music on her headphones. Nala thinks that the door to nala's room is\n",
      "\n",
      "Once upon a time, in a sunny park, Hugo and his buddies were having fun. Hugo had a special wish - he wanted to be the best at flying kites. His kite had a very strong string. A cheeky raven swooped down and playfully nibbled on the string, making it not so strong anymore. Hugo sees the raven pecking at his kite's string. Hugo believes the string of his kite is weak.\n",
      "Once upon a time, in a sunny park, Hugo and his buddies were having fun. Hugo had a special wish - he wanted to be the best at flying kites. His kite had a very strong string.  Hugo believed the string of his kite was strong. A cheeky raven swooped down and playfully nibbled on the string, making it not so strong anymore. Hugo doesn't see the raven pecking at his kite's string because he is looking at his friends. Hugo thinks that the string of hugo's kite is\n",
      "\n",
      "Once upon a time, in a bustling fish market, there was a boy named Ravi. He was on a special mission to find a fish. Not just any fish, but a big, heavy fish for his mom to cook for their dinner. Mr. Fishmonger gently took out the icky parts from the fish. Now, the fish on the scale was not as heavy as before. Ravi sees the fishmonger removing the fish guts. Ravi believes the fish on the scale is light.\n",
      "Once upon a time, in a bustling fish market, there was a boy named Ravi. He was on a special mission to find a fish. Not just any fish, but a big, heavy fish for his mom to cook for their dinner.  Ravi believed the fish on the scale was heavy. Mr. Fishmonger gently took out the icky parts from the fish. Now, the fish on the scale was not as heavy as before. Ravi does not see the fishmonger removing the fish guts because he was looking at another fish stall. Ravi thinks that the fish on the scale is\n",
      "\n",
      "Once upon a time, there was a fun birthday party. Vito had a special present for his friend. The present was covered in sparkly paper. At the fun party, a sneaky cousin, who was far related, thought of a silly trick. When nobody was peeking, he carefully opened the surprise present. Vito sees the unwrapped gift when he returns. Vito believes the gift is unwrapped.\n",
      "Once upon a time, there was a fun birthday party. Vito had a special present for his friend. The present was covered in sparkly paper.  Vito thought the gift was wrapped in a shiny paper. At the fun party, a sneaky cousin, who was far related, thought of a silly trick. When nobody was peeking, he carefully opened the surprise present. Vito does not see the unwrapped gift because he is still playing games in the other room. Vito thinks that the gift is\n",
      "\n",
      "Once upon a time, in a bright, cheery kitchen, there was a boy named Tim. He was all set to make a yummy lunch. He decided to make a big bowl of squiggly pasta. The pasta box was filled to the top. While big brother Tim was chopping up colorful veggies, his little sister tiptoed into the kitchen. She giggled as she grabbed some squiggly pasta to play with. Tim sees his sister leaving the kitchen with some pasta in her hand. Tim believes the pasta box is not full.\n",
      "Once upon a time, in a bright, cheery kitchen, there was a boy named Tim. He was all set to make a yummy lunch. He decided to make a big bowl of squiggly pasta. The pasta box was filled to the top.  Tim believed the pasta box was full. While big brother Tim was chopping up colorful veggies, his little sister tiptoed into the kitchen. She giggled as she grabbed some squiggly pasta to play with. Tim does not see his sister leaving the kitchen with some pasta in her hand. Tim thinks that the pasta box is\n",
      "\n"
     ]
    }
   ],
   "source": [
    "# pretty print the first 5 examples from the training set\n",
    "with open(os.path.join(config[\"tom_data_dir\"], cond, config[\"story_file\"]), 'r') as f:\n",
    "    lines = f.readlines()\n",
    "for i in range(5):\n",
    "    print(raw_datasets['train'][i]['content'])\n",
    "    print(lines[i])"
   ]
  },
  {
   "cell_type": "code",
   "execution_count": 38,
   "metadata": {},
   "outputs": [],
   "source": [
    "from transformers import AutoTokenizer\n",
    "tokenizer = AutoTokenizer.from_pretrained(\"EleutherAI/gpt-neo-125M\")"
   ]
  },
  {
   "cell_type": "code",
   "execution_count": 39,
   "metadata": {},
   "outputs": [],
   "source": [
    "def tokenize(element):\n",
    "    outputs = tokenizer(\n",
    "        element[\"content\"],\n",
    "        truncation=True,\n",
    "        max_length=512,\n",
    "        return_overflowing_tokens=True,\n",
    "        return_length=True,\n",
    "    )\n",
    "\n",
    "    input_batch = []\n",
    "    for length, input_ids in zip(outputs[\"length\"], outputs[\"input_ids\"]):\n",
    "        if length <= 512:\n",
    "            input_batch.append(input_ids)\n",
    "    return {\"input_ids\": input_batch}"
   ]
  },
  {
   "cell_type": "code",
   "execution_count": 40,
   "metadata": {},
   "outputs": [],
   "source": [
    "import pandas as pd\n",
    "from datasets import Dataset, DatasetDict\n",
    "hf_datasets = DatasetDict({split: Dataset.from_pandas(pd.DataFrame(data=data)) for split, data in raw_datasets.items()})"
   ]
  },
  {
   "cell_type": "code",
   "execution_count": 41,
   "metadata": {},
   "outputs": [
    {
     "name": "stderr",
     "output_type": "stream",
     "text": [
      "100%|██████████| 1/1 [00:00<00:00, 11.81ba/s]\n",
      "100%|██████████| 1/1 [00:00<00:00, 37.95ba/s]\n"
     ]
    }
   ],
   "source": [
    "tokenized_datasets = hf_datasets.map(tokenize, batched=True, remove_columns=hf_datasets[\"train\"].column_names)"
   ]
  },
  {
   "cell_type": "code",
   "execution_count": 42,
   "metadata": {},
   "outputs": [
    {
     "name": "stdout",
     "output_type": "stream",
     "text": [
      "{'input_ids': [7454, 2402, 257, 640, 11, 319, 257, 1263, 5318, 11, 612, 373, 257, 2933, 3706, 40777, 13, 679, 6151, 284, 3745, 477, 262, 4695, 11, 2592, 465, 1263, 1545, 11, 15890, 13, 15890, 373, 257, 845, 1263, 26917, 290, 339, 373, 1464, 3492, 329, 465, 9799, 13, 15890, 262, 26917, 373, 18177, 285, 3316, 278, 319, 617, 8701, 618, 257, 5897, 17522, 11816, 6716, 2921, 683, 257, 1310, 299, 541, 13, 40777, 7224, 262, 17522, 1017, 1555, 1497, 13, 40777, 5804, 15890, 262, 26917, 468, 587, 38854, 416, 257, 17522, 13]}\n"
     ]
    }
   ],
   "source": [
    "print(tokenized_datasets[\"train\"][0])"
   ]
  },
  {
   "cell_type": "code",
   "execution_count": 44,
   "metadata": {},
   "outputs": [
    {
     "data": {
      "text/plain": [
       "'<|endoftext|>'"
      ]
     },
     "execution_count": 44,
     "metadata": {},
     "output_type": "execute_result"
    }
   ],
   "source": [
    "tokenizer.eos_token"
   ]
  },
  {
   "cell_type": "code",
   "execution_count": null,
   "metadata": {},
   "outputs": [],
   "source": []
  }
 ],
 "metadata": {
  "kernelspec": {
   "display_name": "marple",
   "language": "python",
   "name": "python3"
  },
  "language_info": {
   "codemirror_mode": {
    "name": "ipython",
    "version": 3
   },
   "file_extension": ".py",
   "mimetype": "text/x-python",
   "name": "python",
   "nbconvert_exporter": "python",
   "pygments_lexer": "ipython3",
   "version": "3.10.9"
  },
  "orig_nbformat": 4
 },
 "nbformat": 4,
 "nbformat_minor": 2
}
