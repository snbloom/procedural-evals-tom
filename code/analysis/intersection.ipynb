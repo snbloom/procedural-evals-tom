{
 "cells": [
  {
   "cell_type": "code",
   "execution_count": 7,
   "metadata": {},
   "outputs": [
    {
     "name": "stdout",
     "output_type": "stream",
     "text": [
      "correct correct\n",
      "incorrect incorrect\n",
      "incorrect correct\n",
      "correct incorrect\n",
      "correct correct\n",
      "correct incorrect\n",
      "correct correct\n",
      "incorrect incorrect\n",
      "correct correct\n",
      "correct correct\n",
      "correct correct\n",
      "incorrect correct\n",
      "correct correct\n",
      "correct correct\n",
      "inconsistent correct\n",
      "correct incorrect\n",
      "correct correct\n",
      "correct correct\n",
      "inconsistent correct\n",
      "correct incorrect\n",
      "incorrect correct\n",
      "correct correct\n",
      "11\n",
      "0.5\n"
     ]
    }
   ],
   "source": [
    "f1 = \"../../data/results/tinytom-v3/0_forward_belief_false_belief_corrected_in/auto_accuracy__scr_snbloom_models_finetuned-28-tinytom-v3-600_checkpoint-380_0.0_belief_false_belief_0_50.csv\"\n",
    "f2 = \"../../data/results/tinytom-v3/0_forward_belief_true_belief_corrected_in/auto_accuracy__scr_snbloom_models_finetuned-28-tinytom-v3-600_checkpoint-380_0.0_belief_true_belief_0_50.csv\"\n",
    "\n",
    "count = 0\n",
    "with open(f1, \"r\") as f:\n",
    "    fb_accuracies = list(f.readlines())\n",
    "with open(f2, \"r\") as f:\n",
    "    tb_accuracies = list(f.readlines())\n",
    "for fb, tb in zip(fb_accuracies, tb_accuracies):\n",
    "    print(fb.strip(), tb.strip())\n",
    "    if fb.strip() ==\"correct\" and tb.strip() ==\"correct\": count += 1\n",
    "print(count)\n",
    "print(count/len(fb_accuracies))"
   ]
  }
 ],
 "metadata": {
  "kernelspec": {
   "display_name": "tinytom",
   "language": "python",
   "name": "python3"
  },
  "language_info": {
   "codemirror_mode": {
    "name": "ipython",
    "version": 3
   },
   "file_extension": ".py",
   "mimetype": "text/x-python",
   "name": "python",
   "nbconvert_exporter": "python",
   "pygments_lexer": "ipython3",
   "version": "3.10.0"
  },
  "orig_nbformat": 4
 },
 "nbformat": 4,
 "nbformat_minor": 2
}
