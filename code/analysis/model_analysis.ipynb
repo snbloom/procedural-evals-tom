{
 "cells": [
  {
   "cell_type": "code",
   "execution_count": 8,
   "metadata": {},
   "outputs": [],
   "source": [
    "import os\n",
    "import numpy as np\n",
    "import pandas as pd\n",
    "\n",
    "\n",
    "DATA_DIR = '../../data'\n",
    "CONDITION_DIR = os.path.join(DATA_DIR, 'conditions')\n",
    "dataset = 'tinytom-v3'\n",
    "RESULTS_DIR = os.path.join(DATA_DIR, 'results', dataset)\n",
    "INITIAL_BELIEF = ['0_forward', '1_forward'] # 0 hide initial belief, 1 show initial belief\n",
    "VARIABLES = ['belief'] #'desire']\n",
    "CONDITIONS = ['true_belief', 'false_belief']\n",
    "models = ['_scr_snbloom_models_finetuned-28-tinytom-v3-600_checkpoint-380_0']\n",
    "# models = ['_scr_kanishkg_models_finetuned-33-tinytom-v3-600_checkpoint-140_0']\n",
    "# models = ['gpt-4-0613_0']\n",
    "models = ['_scr_kanishkg_models_neo-training-125-1_checkpoint-28000_1_0']\n",
    "# models = ['_scr_snbloom_models_finetuned-28-tinytom-v2-600_checkpoint-380_0']\n",
    "# models = ['_scr_snbloom_models_finetuned-28-tinytom-v3-100_checkpoint-80_0']\n",
    "# models = ['roneneldan_TinyStories-33M_0']\n",
    "# models = ['stories110M.bin_0']\n",
    "models= ['auto_accuracy__scr_kanishkg_models_neo-training-125-1_checkpoint-28000_1_0.0_belief_false_belief_0_50']\n",
    "models = [models[-1]]\n",
    "\n",
    "methods = ['0shot']\n",
    "temperatures = [0]"
   ]
  },
  {
   "cell_type": "code",
   "execution_count": 9,
   "metadata": {},
   "outputs": [
    {
     "name": "stdout",
     "output_type": "stream",
     "text": [
      "Analyzing _scr_kanishkg_models_neo-training-125-1_checkpoint-28000_1_0 0_forward belief 0shot\n"
     ]
    },
    {
     "ename": "FileNotFoundError",
     "evalue": "[Errno 2] No such file or directory: '../../data/results/tinytom-v3/0_forward_belief_true_belief_corrected_none/auto_accuracy__scr_kanishkg_models_neo-training-125-1_checkpoint-28000_1_0.0_belief_true_belief_0_50.csv'",
     "output_type": "error",
     "traceback": [
      "\u001b[0;31m---------------------------------------------------------------------------\u001b[0m",
      "\u001b[0;31mFileNotFoundError\u001b[0m                         Traceback (most recent call last)",
      "Cell \u001b[0;32mIn[9], line 8\u001b[0m\n\u001b[1;32m      6\u001b[0m \u001b[39mprint\u001b[39m(\u001b[39mf\u001b[39m\u001b[39m'\u001b[39m\u001b[39mAnalyzing \u001b[39m\u001b[39m{\u001b[39;00mmodel_name\u001b[39m}\u001b[39;00m\u001b[39m \u001b[39m\u001b[39m{\u001b[39;00minit_belief\u001b[39m}\u001b[39;00m\u001b[39m \u001b[39m\u001b[39m{\u001b[39;00mvariable\u001b[39m}\u001b[39;00m\u001b[39m \u001b[39m\u001b[39m{\u001b[39;00mmethod\u001b[39m}\u001b[39;00m\u001b[39m'\u001b[39m)\n\u001b[1;32m      7\u001b[0m t_accuracy_file \u001b[39m=\u001b[39m os\u001b[39m.\u001b[39mpath\u001b[39m.\u001b[39mjoin(RESULTS_DIR, \u001b[39mf\u001b[39m\u001b[39m'\u001b[39m\u001b[39m{\u001b[39;00minit_belief\u001b[39m}\u001b[39;00m\u001b[39m_\u001b[39m\u001b[39m{\u001b[39;00mvariable\u001b[39m}\u001b[39;00m\u001b[39m_true_belief_corrected_none/auto_accuracy_\u001b[39m\u001b[39m{\u001b[39;00mmodel_name\u001b[39m}\u001b[39;00m\u001b[39m.\u001b[39m\u001b[39m{\u001b[39;00mtemperature\u001b[39m}\u001b[39;00m\u001b[39m_\u001b[39m\u001b[39m{\u001b[39;00mvariable\u001b[39m}\u001b[39;00m\u001b[39m_true_belief_0_50.csv\u001b[39m\u001b[39m'\u001b[39m)\n\u001b[0;32m----> 8\u001b[0m \u001b[39mwith\u001b[39;00m \u001b[39mopen\u001b[39;49m(t_accuracy_file, \u001b[39m'\u001b[39;49m\u001b[39mr\u001b[39;49m\u001b[39m'\u001b[39;49m) \u001b[39mas\u001b[39;00m f:\n\u001b[1;32m      9\u001b[0m     t_accuracy \u001b[39m=\u001b[39m f\u001b[39m.\u001b[39mread()\u001b[39m.\u001b[39msplitlines()\n\u001b[1;32m     10\u001b[0m \u001b[39m# convert to bool\u001b[39;00m\n",
      "File \u001b[0;32m~/opt/anaconda3/envs/marple/lib/python3.10/site-packages/IPython/core/interactiveshell.py:284\u001b[0m, in \u001b[0;36m_modified_open\u001b[0;34m(file, *args, **kwargs)\u001b[0m\n\u001b[1;32m    277\u001b[0m \u001b[39mif\u001b[39;00m file \u001b[39min\u001b[39;00m {\u001b[39m0\u001b[39m, \u001b[39m1\u001b[39m, \u001b[39m2\u001b[39m}:\n\u001b[1;32m    278\u001b[0m     \u001b[39mraise\u001b[39;00m \u001b[39mValueError\u001b[39;00m(\n\u001b[1;32m    279\u001b[0m         \u001b[39mf\u001b[39m\u001b[39m\"\u001b[39m\u001b[39mIPython won\u001b[39m\u001b[39m'\u001b[39m\u001b[39mt let you open fd=\u001b[39m\u001b[39m{\u001b[39;00mfile\u001b[39m}\u001b[39;00m\u001b[39m by default \u001b[39m\u001b[39m\"\u001b[39m\n\u001b[1;32m    280\u001b[0m         \u001b[39m\"\u001b[39m\u001b[39mas it is likely to crash IPython. If you know what you are doing, \u001b[39m\u001b[39m\"\u001b[39m\n\u001b[1;32m    281\u001b[0m         \u001b[39m\"\u001b[39m\u001b[39myou can use builtins\u001b[39m\u001b[39m'\u001b[39m\u001b[39m open.\u001b[39m\u001b[39m\"\u001b[39m\n\u001b[1;32m    282\u001b[0m     )\n\u001b[0;32m--> 284\u001b[0m \u001b[39mreturn\u001b[39;00m io_open(file, \u001b[39m*\u001b[39;49margs, \u001b[39m*\u001b[39;49m\u001b[39m*\u001b[39;49mkwargs)\n",
      "\u001b[0;31mFileNotFoundError\u001b[0m: [Errno 2] No such file or directory: '../../data/results/tinytom-v3/0_forward_belief_true_belief_corrected_none/auto_accuracy__scr_kanishkg_models_neo-training-125-1_checkpoint-28000_1_0.0_belief_true_belief_0_50.csv'"
     ]
    }
   ],
   "source": [
    "\n",
    "temperature = 0\n",
    "for model_name in models:\n",
    "    for init_belief in INITIAL_BELIEF:\n",
    "        for variable in VARIABLES:\n",
    "            for method in methods:\n",
    "                print(f'Analyzing {model_name} {init_belief} {variable} {method}')\n",
    "                t_accuracy_file = os.path.join(RESULTS_DIR, f'{init_belief}_{variable}_true_belief_corrected_none/auto_accuracy_{model_name}.{temperature}_{variable}_true_belief_0_50.csv')\n",
    "                with open(t_accuracy_file, 'r') as f:\n",
    "                    t_accuracy = f.read().splitlines()\n",
    "                # convert to bool\n",
    "                print(t_accuracy.count('correct'))\n",
    "                print(t_accuracy.count('incorrect'))\n",
    "                print(t_accuracy.count('unrelated'))\n",
    "                print(t_accuracy.count('inconsistent'))\n",
    "                for i in range(len(t_accuracy)):\n",
    "                    if t_accuracy[i] == 'correct':\n",
    "                        t_accuracy[i] = True\n",
    "                    else:\n",
    "                        t_accuracy[i] = False\n",
    "                f_accuracy_file = os.path.join(RESULTS_DIR, f'{init_belief}_{variable}_false_belief_corrected_none/auto_accuracy_{model_name}.{temperature}_{variable}_false_belief_0_50.csv')\n",
    "                with open(f_accuracy_file, 'r') as f:\n",
    "                    f_accuracy = f.read().splitlines()\n",
    "                print(f_accuracy.count('correct'))\n",
    "                print(f_accuracy.count('incorrect'))\n",
    "                print(f_accuracy.count('unrelated'))\n",
    "                print(f_accuracy.count('inconsistent'))\n",
    "                # convert to bool\n",
    "                for i in range(len(f_accuracy)):\n",
    "                    if f_accuracy[i] == 'correct':\n",
    "                        f_accuracy[i] = True\n",
    "                    else:\n",
    "                        f_accuracy[i] = False\n",
    "                print(f'True Accuracy: {np.mean(t_accuracy)}')\n",
    "                print(f'False Accuracy: {np.mean(f_accuracy)}')\n",
    "                # take intersection of true and false accuracy\n",
    "                print(f'Intersection Accuracy: {np.mean(np.logical_and(t_accuracy, f_accuracy))}')\n",
    "                print(f'Content Accuracy:{(np.sum(np.logical_and(t_accuracy, f_accuracy))/np.sum(t_accuracy))} ')\n",
    "\n"
   ]
  },
  {
   "cell_type": "code",
   "execution_count": 10,
   "metadata": {},
   "outputs": [
    {
     "name": "stdout",
     "output_type": "stream",
     "text": [
      "zsh:1: no matches found: ./../data/results/tinytom-v3/0_forward_belief_true_belief_corrected_none/auto_accuracy__scr_kanishkg_models_neo-training-125-*\n"
     ]
    }
   ],
   "source": [
    "!ls ./../data/results/tinytom-v3/0_forward_belief_true_belief_corrected_none/auto_accuracy__scr_kanishkg_models_neo-training-125-*"
   ]
  },
  {
   "cell_type": "code",
   "execution_count": null,
   "metadata": {},
   "outputs": [],
   "source": []
  }
 ],
 "metadata": {
  "kernelspec": {
   "display_name": "marple",
   "language": "python",
   "name": "python3"
  },
  "language_info": {
   "codemirror_mode": {
    "name": "ipython",
    "version": 3
   },
   "file_extension": ".py",
   "mimetype": "text/x-python",
   "name": "python",
   "nbconvert_exporter": "python",
   "pygments_lexer": "ipython3",
   "version": "3.10.9"
  },
  "orig_nbformat": 4
 },
 "nbformat": 4,
 "nbformat_minor": 2
}
