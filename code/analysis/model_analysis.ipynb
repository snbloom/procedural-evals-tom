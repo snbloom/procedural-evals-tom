{
 "cells": [
  {
   "cell_type": "code",
   "execution_count": 40,
   "metadata": {},
   "outputs": [],
   "source": [
    "import os\n",
    "import numpy as np\n",
    "import pandas as pd\n",
    "\n",
    "\n",
    "DATA_DIR = '../../data'\n",
    "CONDITION_DIR = os.path.join(DATA_DIR, 'conditions')\n",
    "dataset = 'tinytom'\n",
    "RESULTS_DIR = os.path.join(DATA_DIR, 'results', dataset)\n",
    "INITIAL_BELIEF = ['0_forward', '1_forward'] # 0 hide initial belief, 1 show initial belief\n",
    "VARIABLES = ['belief'] #'desire']\n",
    "CONDITIONS = ['true_belief', 'false_belief']\n",
    "# models = ['meta-llama_Llama-2-7b-hf_0', 'openai_text-davinci-003_0', 'gpt-3.5-turbo_0', 'roneneldan_TinyStories-33M_0', '_scr_kanishkg_models_finetuned-28-tinytom-200_checkpoint-70_0']\n",
    "# models = ['_scr_snbloom_models_finetuned-llama-43-tinytom_checkpoint-125_0']\n",
    "# models = ['_scr_kanishkg_models_llama-training-43-4_checkpoint-50000_0']\n",
    "models = ['_scr_snbloom_models_finetuned-33-tinytom_checkpoint-125_0']\n",
    "models = ['_scr_kanishkg_models_finetuned-llama-43-tinytom-200_checkpoint-430_0']\n",
    "models = ['gpt-4-0613_0']\n",
    "models = ['_scr_snbloom_models_finetuned-28-tinytom-v2-600_checkpoint-380_0']\n",
    "models = [models[-1]]\n",
    "\n",
    "methods = ['0shot']\n",
    "temperatures = [0]"
   ]
  },
  {
   "cell_type": "code",
   "execution_count": 41,
   "metadata": {},
   "outputs": [
    {
     "name": "stdout",
     "output_type": "stream",
     "text": [
      "Analyzing _scr_snbloom_models_finetuned-28-tinytom-v2-600_checkpoint-380_0 0_forward belief 0shot\n",
      "28\n",
      "15\n",
      "3\n",
      "4\n",
      "28\n",
      "8\n",
      "11\n",
      "3\n",
      "True Accuracy: 0.56\n",
      "False Accuracy: 0.56\n",
      "Intersection Accuracy: 0.2\n",
      "Content Accuracy:0.35714285714285715 \n",
      "Analyzing _scr_snbloom_models_finetuned-28-tinytom-v2-600_checkpoint-380_0 1_forward belief 0shot\n",
      "22\n",
      "22\n",
      "4\n",
      "2\n",
      "36\n",
      "7\n",
      "4\n",
      "3\n",
      "True Accuracy: 0.44\n",
      "False Accuracy: 0.72\n",
      "Intersection Accuracy: 0.2\n",
      "Content Accuracy:0.45454545454545453 \n"
     ]
    }
   ],
   "source": [
    "\n",
    "temperature = 0\n",
    "for model_name in models:\n",
    "    for init_belief in INITIAL_BELIEF:\n",
    "        for variable in VARIABLES:\n",
    "            for method in methods:\n",
    "                print(f'Analyzing {model_name} {init_belief} {variable} {method}')\n",
    "                t_accuracy_file = os.path.join(RESULTS_DIR, f'{init_belief}_{variable}_true_belief/auto_accuracy_{model_name}.{temperature}_{variable}_true_belief_0_50.csv')\n",
    "                with open(t_accuracy_file, 'r') as f:\n",
    "                    t_accuracy = f.read().splitlines()\n",
    "                # convert to bool\n",
    "                print(t_accuracy.count('correct'))\n",
    "                print(t_accuracy.count('incorrect'))\n",
    "                print(t_accuracy.count('unrelated'))\n",
    "                print(t_accuracy.count('inconsistent'))\n",
    "                for i in range(len(t_accuracy)):\n",
    "                    if t_accuracy[i] == 'correct':\n",
    "                        t_accuracy[i] = True\n",
    "                    else:\n",
    "                        t_accuracy[i] = False\n",
    "                f_accuracy_file = os.path.join(RESULTS_DIR, f'{init_belief}_{variable}_false_belief/auto_accuracy_{model_name}.{temperature}_{variable}_false_belief_0_50.csv')\n",
    "                with open(f_accuracy_file, 'r') as f:\n",
    "                    f_accuracy = f.read().splitlines()\n",
    "                print(f_accuracy.count('correct'))\n",
    "                print(f_accuracy.count('incorrect'))\n",
    "                print(f_accuracy.count('unrelated'))\n",
    "                print(f_accuracy.count('inconsistent'))\n",
    "                # convert to bool\n",
    "                for i in range(len(f_accuracy)):\n",
    "                    if f_accuracy[i] == 'correct':\n",
    "                        f_accuracy[i] = True\n",
    "                    else:\n",
    "                        f_accuracy[i] = False\n",
    "                print(f'True Accuracy: {np.mean(t_accuracy)}')\n",
    "                print(f'False Accuracy: {np.mean(f_accuracy)}')\n",
    "                # take intersection of true and false accuracy\n",
    "                print(f'Intersection Accuracy: {np.mean(np.logical_and(t_accuracy, f_accuracy))}')\n",
    "                print(f'Content Accuracy:{(np.sum(np.logical_and(t_accuracy, f_accuracy))/np.sum(t_accuracy))} ')\n",
    "\n"
   ]
  },
  {
   "cell_type": "code",
   "execution_count": null,
   "metadata": {},
   "outputs": [],
   "source": []
  },
  {
   "cell_type": "code",
   "execution_count": null,
   "metadata": {},
   "outputs": [],
   "source": []
  }
 ],
 "metadata": {
  "kernelspec": {
   "display_name": "marple",
   "language": "python",
   "name": "python3"
  },
  "language_info": {
   "codemirror_mode": {
    "name": "ipython",
    "version": 3
   },
   "file_extension": ".py",
   "mimetype": "text/x-python",
   "name": "python",
   "nbconvert_exporter": "python",
   "pygments_lexer": "ipython3",
   "version": "3.10.9"
  },
  "orig_nbformat": 4
 },
 "nbformat": 4,
 "nbformat_minor": 2
}
