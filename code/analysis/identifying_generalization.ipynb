{
 "cells": [
  {
   "cell_type": "code",
   "execution_count": 1,
   "metadata": {},
   "outputs": [],
   "source": [
    "import os"
   ]
  },
  {
   "cell_type": "markdown",
   "metadata": {},
   "source": [
    "## Read results from file"
   ]
  },
  {
   "cell_type": "code",
   "execution_count": 15,
   "metadata": {},
   "outputs": [],
   "source": [
    "DATA_PATH = '../../data/tinytom'\n",
    "RESULTS_PATH = '../../data/results/tinytom'\n",
    "FB_CONDITION = '0_forward_belief_false_belief'\n",
    "TB_CONDITION = '0_forward_belief_true_belief'\n",
    "fb_files = [\n",
    "    # 'auto_accuracy_roneneldan_TinyStories-28M_0.0_belief_false_belief_0_50.csv',\n",
    "    'auto_accuracy__scr_snbloom_models_finetuned-28-tinytom-v2-100_checkpoint-80_0.0_belief_false_belief_0_50.csv',\n",
    "            'auto_accuracy__scr_snbloom_models_finetuned-28-tinytom-v2-200_checkpoint-140_0.0_belief_false_belief_0_50.csv',\n",
    "            'auto_accuracy__scr_snbloom_models_finetuned-28-tinytom-v2-500_checkpoint-320_0.0_belief_false_belief_0_50.csv',\n",
    "            'auto_accuracy__scr_snbloom_models_finetuned-28-tinytom-v2-600_checkpoint-380_0.0_belief_false_belief_0_50.csv',\n",
    "            # 'auto_accuracy__scr_snbloom_models_finetuned-33-tinytom-v2-100_checkpoint-140_0.0_belief_false_belief_0_50.csv',\n",
    "            # 'auto_accuracy__scr_snbloom_models_finetuned-33-tinytom-v2-200_checkpoint-260_0.0_belief_false_belief_0_50.csv',\n",
    "]\n",
    "tb_files = [f.replace('false', 'true') for f in fb_files]\n",
    "# Read the CSV files into lists of lines\n",
    "ufb_lines = []\n",
    "for file in fb_files:\n",
    "    with open(f'{RESULTS_PATH}/{FB_CONDITION}/{file}', 'r') as f:\n",
    "        ufb_lines.append(f.readlines())\n",
    "\n",
    "tb_lines = []\n",
    "for file in tb_files:\n",
    "    with open(f'{RESULTS_PATH}/{TB_CONDITION}/{file}', 'r') as f:\n",
    "        tb_lines.append(f.readlines())\n",
    "\n",
    "\n",
    "\n"
   ]
  },
  {
   "cell_type": "markdown",
   "metadata": {},
   "source": [
    "## Annotate correctness"
   ]
  },
  {
   "cell_type": "code",
   "execution_count": 187,
   "metadata": {},
   "outputs": [],
   "source": [
    "fb_lines = [[] for _ in fb_files]\n",
    "for i in range(len(ufb_lines[0])):\n",
    "    fb_answers = [model[i].strip().lower() for model in ufb_lines]\n",
    "    tb_answers = [model[i].strip().lower() for model in tb_lines]\n",
    "    for m in range(len(fb_answers)):\n",
    "        if fb_answers[m] == 'correct' and tb_answers[m] == 'correct':\n",
    "        # if tb_answers[m] == 'correct':\n",
    "            fb_lines[m].append('correct')\n",
    "        else:\n",
    "            fb_lines[m].append('incorrect')"
   ]
  },
  {
   "cell_type": "markdown",
   "metadata": {},
   "source": [
    "## Read results from file"
   ]
  },
  {
   "cell_type": "code",
   "execution_count": 188,
   "metadata": {},
   "outputs": [
    {
     "name": "stdout",
     "output_type": "stream",
     "text": [
      "{0: {'correct': 0, 'incorrect': 6, 'unrelated': 0, 'inconsistent': 0}, 1: {'correct': 0, 'incorrect': 3, 'unrelated': 0, 'inconsistent': 0}, 2: {'correct': 0, 'incorrect': 6, 'unrelated': 0, 'inconsistent': 0}, 3: {'correct': 0, 'incorrect': 3, 'unrelated': 0, 'inconsistent': 0}, 4: {'correct': 0, 'incorrect': 6, 'unrelated': 0, 'inconsistent': 0}, 5: {'correct': 0, 'incorrect': 6, 'unrelated': 0, 'inconsistent': 0}, 6: {'correct': 0, 'incorrect': 6, 'unrelated': 0, 'inconsistent': 0}, 7: {'correct': 0, 'incorrect': 6, 'unrelated': 0, 'inconsistent': 0}, 8: {'correct': 0, 'incorrect': 6, 'unrelated': 0, 'inconsistent': 0}, 9: {'correct': 0, 'incorrect': 6, 'unrelated': 0, 'inconsistent': 0}, 10: {'correct': 0, 'incorrect': 6, 'unrelated': 0, 'inconsistent': 0}, 11: {'correct': 0, 'incorrect': 6, 'unrelated': 0, 'inconsistent': 0}, 12: {'correct': 0, 'incorrect': 6, 'unrelated': 0, 'inconsistent': 0}, 13: {'correct': 0, 'incorrect': 6, 'unrelated': 0, 'inconsistent': 0}, 14: {'correct': 0, 'incorrect': 6, 'unrelated': 0, 'inconsistent': 0}, 15: {'correct': 0, 'incorrect': 3, 'unrelated': 0, 'inconsistent': 0}, 16: {'correct': 1, 'incorrect': 1, 'unrelated': 0, 'inconsistent': 0}, 17: {'correct': 0, 'incorrect': 6, 'unrelated': 0, 'inconsistent': 0}, 18: {'correct': 0, 'incorrect': 6, 'unrelated': 0, 'inconsistent': 0}, 19: {'correct': 0, 'incorrect': 6, 'unrelated': 0, 'inconsistent': 0}, 20: {'correct': 0, 'incorrect': 6, 'unrelated': 0, 'inconsistent': 0}, 21: {'correct': 0, 'incorrect': 3, 'unrelated': 0, 'inconsistent': 0}, 22: {'correct': 0, 'incorrect': 3, 'unrelated': 0, 'inconsistent': 0}, 23: {'correct': 0, 'incorrect': 6, 'unrelated': 0, 'inconsistent': 0}, 24: {'correct': 1, 'incorrect': 1, 'unrelated': 0, 'inconsistent': 0}, 25: {'correct': 0, 'incorrect': 6, 'unrelated': 0, 'inconsistent': 0}, 26: {'correct': 1, 'incorrect': 1, 'unrelated': 0, 'inconsistent': 0}, 27: {'correct': 0, 'incorrect': 3, 'unrelated': 0, 'inconsistent': 0}, 28: {'correct': 0, 'incorrect': 6, 'unrelated': 0, 'inconsistent': 0}, 29: {'correct': 6, 'incorrect': 0, 'unrelated': 0, 'inconsistent': 0}, 30: {'correct': 1, 'incorrect': 1, 'unrelated': 0, 'inconsistent': 0}, 31: {'correct': 0, 'incorrect': 6, 'unrelated': 0, 'inconsistent': 0}, 32: {'correct': 6, 'incorrect': 0, 'unrelated': 0, 'inconsistent': 0}, 33: {'correct': 3, 'incorrect': 0, 'unrelated': 0, 'inconsistent': 0}, 34: {'correct': 0, 'incorrect': 6, 'unrelated': 0, 'inconsistent': 0}, 35: {'correct': 3, 'incorrect': 0, 'unrelated': 0, 'inconsistent': 0}, 36: {'correct': 1, 'incorrect': 1, 'unrelated': 0, 'inconsistent': 0}, 37: {'correct': 0, 'incorrect': 6, 'unrelated': 0, 'inconsistent': 0}, 38: {'correct': 0, 'incorrect': 6, 'unrelated': 0, 'inconsistent': 0}, 39: {'correct': 0, 'incorrect': 6, 'unrelated': 0, 'inconsistent': 0}, 40: {'correct': 1, 'incorrect': 1, 'unrelated': 0, 'inconsistent': 0}, 41: {'correct': 3, 'incorrect': 0, 'unrelated': 0, 'inconsistent': 0}, 42: {'correct': 3, 'incorrect': 0, 'unrelated': 0, 'inconsistent': 0}, 43: {'correct': 0, 'incorrect': 6, 'unrelated': 0, 'inconsistent': 0}, 44: {'correct': 0, 'incorrect': 6, 'unrelated': 0, 'inconsistent': 0}, 45: {'correct': 0, 'incorrect': 6, 'unrelated': 0, 'inconsistent': 0}, 46: {'correct': 0, 'incorrect': 6, 'unrelated': 0, 'inconsistent': 0}, 47: {'correct': 0, 'incorrect': 6, 'unrelated': 0, 'inconsistent': 0}, 48: {'correct': 0, 'incorrect': 6, 'unrelated': 0, 'inconsistent': 0}, 49: {'correct': 0, 'incorrect': 3, 'unrelated': 0, 'inconsistent': 0}}\n"
     ]
    }
   ],
   "source": [
    "agreement = {}\n",
    "\n",
    "for i in range(len(fb_lines[0])):\n",
    "    agreement[i] = {'correct': 0, 'incorrect': 0, 'unrelated': 0, 'inconsistent': 0}\n",
    "    answers_for_current_question = [model[i].strip().lower() for model in fb_lines]\n",
    "    \n",
    "    for m in range(len(fb_lines)):\n",
    "        for n in range(m+1, len(fb_lines)):\n",
    "            if answers_for_current_question[m] == answers_for_current_question[n]:\n",
    "                if answers_for_current_question[m] == 'correct':\n",
    "                    agreement[i]['correct'] += 1\n",
    "                elif answers_for_current_question[m] == 'incorrect':\n",
    "                    agreement[i]['incorrect'] += 1\n",
    "                elif answers_for_current_question[m] == 'unrelated':\n",
    "                    agreement[i]['unrelated'] += 1\n",
    "                elif answers_for_current_question[m] == 'inconsistent':\n",
    "                    agreement[i]['inconsistent'] += 1\n",
    "            else:\n",
    "                continue\n",
    "print(agreement)"
   ]
  },
  {
   "cell_type": "code",
   "execution_count": 189,
   "metadata": {},
   "outputs": [
    {
     "name": "stdout",
     "output_type": "stream",
     "text": [
      "[0, 0, 0, 0, 0, 0, 0, 0, 0, 0, 0, 0, 0, 0, 0, 0, 1, 0, 0, 0, 0, 0, 0, 0, 1, 0, 1, 0, 0, 6, 1, 0, 6, 3, 0, 3, 1, 0, 0, 0, 1, 3, 3, 0, 0, 0, 0, 0, 0, 0]\n",
      "[6, 3, 6, 3, 6, 6, 6, 6, 6, 6, 6, 6, 6, 6, 6, 3, 1, 6, 6, 6, 6, 3, 3, 6, 1, 6, 1, 3, 6, 0, 1, 6, 0, 0, 6, 0, 1, 6, 6, 6, 1, 0, 0, 6, 6, 6, 6, 6, 6, 3]\n"
     ]
    },
    {
     "data": {
      "image/png": "[encoded data removed]",
      "text/plain": [
       "<Figure size 1500x600 with 1 Axes>"
      ]
     },
     "metadata": {},
     "output_type": "display_data"
    }
   ],
   "source": [
    "import matplotlib.pyplot as plt\n",
    "\n",
    "# Assuming the earlier provided code and 'agreement' dictionary is already in place...\n",
    "\n",
    "labels = list(agreement.keys())\n",
    "correct_vals = [agreement[key]['correct'] for key in labels]\n",
    "incorrect_vals = [agreement[key]['incorrect'] for key in labels]\n",
    "# unrelated_vals = [agreement[key]['unrelated'] for key in labels]\n",
    "# inconsistent_vals = [agreement[key]['inconsistent'] for key in labels]\n",
    "print(correct_vals)\n",
    "print(incorrect_vals)\n",
    "# print(unrelated_vals)\n",
    "# print(inconsistent_vals)\n",
    "\n",
    "width = 0.35  # width of the bars\n",
    "fig, ax = plt.subplots(figsize=(15,6))\n",
    "\n",
    "ax.bar(labels, correct_vals, width, label='Correct', color='g')\n",
    "ax.bar(labels, incorrect_vals, width, bottom=correct_vals, label='Incorrect', color='r')\n",
    "# ax.bar(labels, unrelated_vals, width, bottom=[i+j for i,j in zip(correct_vals, incorrect_vals)], label='Unrelated', color='b')\n",
    "# ax.bar(labels, inconsistent_vals, width, bottom=[i+j+k for i,j,k in zip(correct_vals, incorrect_vals, unrelated_vals)], label='Inconsistent', color='y')\n",
    "\n",
    "ax.set_ylabel('Counts')\n",
    "ax.set_title('Inter-model agreement for each question')\n",
    "ax.set_xticks(labels)\n",
    "ax.legend()\n",
    "\n",
    "plt.show()\n"
   ]
  },
  {
   "cell_type": "code",
   "execution_count": 190,
   "metadata": {},
   "outputs": [
    {
     "data": {
      "image/png": "[encoded data removed]",
      "text/plain": [
       "<Figure size 1000x800 with 2 Axes>"
      ]
     },
     "metadata": {},
     "output_type": "display_data"
    }
   ],
   "source": [
    "import numpy as np\n",
    "import seaborn as sns\n",
    "import matplotlib.pyplot as plt\n",
    "\n",
    "# Assuming the earlier provided 'fb_lines' list...\n",
    "\n",
    "model_count = len(fb_lines)\n",
    "agreement_matrix = np.zeros((model_count, model_count))\n",
    "agreement_matrix += np.eye(model_count) * len(fb_lines[0])  # Initialize the diagonal with the number of questions\n",
    "\n",
    "for i in range(len(fb_lines[0])):\n",
    "    answers_for_current_question = [model[i].strip().lower() for model in fb_lines]\n",
    "    \n",
    "    for m in range(model_count):\n",
    "        for n in range(m+1, model_count):\n",
    "            if answers_for_current_question[m] == answers_for_current_question[n] and answers_for_current_question[m] == 'correct':\n",
    "                agreement_matrix[m][n] += 1\n",
    "                agreement_matrix[n][m] += 1  # The matrix is symmetrical\n",
    "\n",
    "# Plotting the heatmap\n",
    "fig, ax = plt.subplots(figsize=(10, 8))\n",
    "sns.heatmap(agreement_matrix, annot=True, cmap=\"YlGnBu\", ax=ax, cbar_kws={'label': 'Number of Agreements'})\n",
    "ax.set_title('Inter-model Agreement')\n",
    "ax.set_xlabel('Model Index')\n",
    "ax.set_ylabel('Model Index')\n",
    "plt.show()\n"
   ]
  },
  {
   "cell_type": "markdown",
   "metadata": {},
   "source": [
    "## Pos examples"
   ]
  },
  {
   "cell_type": "code",
   "execution_count": 191,
   "metadata": {},
   "outputs": [
    {
     "name": "stdout",
     "output_type": "stream",
     "text": [
      "6\n",
      "Sam was in the kitchen making a cake. Sam wanted to wash his hands before he started to bake. The sink in the kitchen was clean. Sam believed the sink was clean. Over time, the sink slowly filled with dirty water from the leaking tap.\n",
      "Benny was at the park near the harmless creek. Benny wanted to sing a new song he just learned. The creek was quiet and restful. Benny believed the creek was quiet and restful. A group of ducks landed in the creek, disrupting its quiet flow.\n",
      "Lenny was in a subway station waiting for his train. Lenny wanted to share his lunch with a friend who was also taking the subway. The tracks for the subway were aligned. Lenny believed the tracks for the subway were aligned. A subway worker, while doing his routine checks, found a misalignment in the tracks and fixed it.\n",
      "Noah was at a busy coffee shop waiting for his friend. Noah wanted to buy a coffee and sit with his friend. The coffee machine was working well. Noah thought the coffee machine was working well. The barista accidentally flipped a switch, causing the coffee machine to stop working.\n",
      "Max was at the park ready to play. Max wanted to play a fun game of hide and seek. The rag he used as a marker was neatly folded on the bench. Max believed the rag was neatly folded on the bench. A gust of wind blew, causing the rag to unfold and become messy.\n",
      "Uri was in the music room at school. Uri wanted to play a harmless prank on his friend. The piano in the music room was light. Uri thought that the piano was light. Over the weekend, the school staff had to replace the piano with a heavier one because the old one was broken.\n"
     ]
    }
   ],
   "source": [
    "# number of questions where all models agree\n",
    "# list all ids where all models agree\n",
    "ids = [i for i in range(len(correct_vals)) if correct_vals[i] >= 3]\n",
    "print(len(ids))\n",
    "\n",
    "# print the questions\n",
    "data_file = f'{DATA_PATH}/tinytom.csv'\n",
    "with open(data_file, 'r') as f:\n",
    "    lines = f.readlines()\n",
    "    for i in ids:\n",
    "        print(lines[i].split(';')[0])\n"
   ]
  },
  {
   "cell_type": "code",
   "execution_count": 192,
   "metadata": {},
   "outputs": [
    {
     "name": "stdout",
     "output_type": "stream",
     "text": [
      "{'noun': 'sink', 'verb': 'want', 'adj': 'fair', 'word': '', 'features': [], 'property': 'opacity (e.g., is the object opaque, translucent, or transparent)'}{'reasoning': ' If Sam was not paying attention to the sink, it is possible that he did not notice the dirty water slowly filling it up. The leaking tap is a valid reason for the sink to fill with water.'}\n",
      "\n",
      "{'noun': 'creek', 'verb': 'sing', 'adj': 'harmless', 'word': '', 'features': [], 'property': 'restful or disruptive (e.g., is an environment restful or disruptive)'}{'reasoning': \" The ducks landing in the creek would disrupt its quiet flow, making noise and creating ripples. However, if Benny was focused on singing his new song, he might not notice the change in the creek's state. The arrival of the ducks is a valid cause for the creek's disruption.\"}\n",
      "\n",
      "{'noun': 'subway', 'verb': 'share', 'adj': 'wealthy', 'word': '', 'features': [], 'property': 'aligned or misaligned (e.g., are objects aligned or misaligned)'}{'reasoning': ' Lenny was waiting for his train and not watching the subway worker. The subway worker fixing the misalignment is a valid reason for the change in the state of the tracks. However, Lenny could have missed this change since he was not observing the worker.'}\n",
      "\n",
      "{'noun': 'coffee', 'verb': 'stand', 'adj': 'busy', 'word': '', 'features': [], 'property': 'locked or unlocked (eg: is a door or safe locked or unlocked)'}{'reasoning': ' The barista accidentally stopping the coffee machine is a valid reason for it to stop working. Noah, who is waiting for his friend, may not notice the coffee machine has stopped working unless he tries to order or the barista informs him.'}\n",
      "\n",
      "{'noun': 'rag', 'verb': 'skip', 'adj': 'shy', 'word': '', 'features': [], 'property': 'organized or messy (e.g., is a space organized or messy)'}{'reasoning': ' Max is getting ready to play hide and seek and may not be looking at the rag when the wind blows it. The wind blowing is a valid reason for the rag to unfold and become messy. It is possible that Max does not notice the change in the state of the rag immediately.'}\n",
      "\n",
      "{'noun': 'piano', 'verb': 'discuss', 'adj': 'harmless', 'word': '', 'features': [], 'property': 'weight (e.g., is the object heavy, light, or moderate)'}{'reasoning': \" Uri thought the piano was light but it was replaced with a heavier one over the weekend. Uri might not have noticed the change unless he tried to move the piano. The school staff replacing the piano is a valid reason for the change in the piano's weight.\"}\n",
      "\n"
     ]
    }
   ],
   "source": [
    "# print gen settings\n",
    "settings_file = f'{DATA_PATH}/tinytom_settings.txt'\n",
    "with open(settings_file, 'r') as f:\n",
    "    lines = f.readlines()\n",
    "    for i in ids:\n",
    "        print(lines[i])"
   ]
  },
  {
   "cell_type": "markdown",
   "metadata": {},
   "source": [
    "## Neg examples\n",
    "\n"
   ]
  },
  {
   "cell_type": "code",
   "execution_count": 193,
   "metadata": {},
   "outputs": [
    {
     "name": "stdout",
     "output_type": "stream",
     "text": [
      "6\n",
      "Nala was in her room ready to sleep. Nala wants to have a good night's sleep without any nightmares. The door to Nala's room is locked. Nala believes the door to her room is locked. Her little brother manages to find the spare key and unlocks the door to her room.\n",
      "Hugo was in the park with his friends. Hugo wanted to win the kite flying contest. The string of Hugo's kite was strong. Hugo believed the string of his kite was strong. A raven flew by and pecked at the string, making it weak.\n",
      "Ravi was at the fish market. Ravi wanted to buy a fish for his mom to cook for dinner. The fish on the scale was heavy. Ravi believed the fish on the scale was heavy. The fishmonger removed the fish guts, making the fish on the scale lighter.\n",
      "Vito was at a birthday party. Vito wanted to give his friend a special gift. The gift was wrapped in a shiny paper. Vito thought the gift was wrapped in a shiny paper. A distant cousin, who was also at the party, decided to play a prank and unwrapped the gift when no one was looking.\n",
      "Tim was in the kitchen, ready to make lunch. Tim wanted to make a big bowl of pasta. The pasta box was full. Tim believed the pasta box was full. While Tim was busy cutting vegetables, his little sister came into the kitchen and took some pasta to play with.\n"
     ]
    }
   ],
   "source": [
    "# number of questions where all models agree\n",
    "# list all ids where all models agree\n",
    "neg_ids = [i for i in range(len(correct_vals)) if correct_vals[i] == 0]\n",
    "print(len(ids))\n",
    "# print the questions\n",
    "data_file = f'{DATA_PATH}/tinytom.csv'\n",
    "with open(data_file, 'r') as f:\n",
    "    lines = f.readlines()\n",
    "    for i in neg_ids[:5]:\n",
    "        print(lines[i].split(';')[0])\n"
   ]
  },
  {
   "cell_type": "code",
   "execution_count": 194,
   "metadata": {},
   "outputs": [
    {
     "name": "stdout",
     "output_type": "stream",
     "text": [
      "\n",
      "\n",
      "{'noun': 'raven', 'verb': 'rot', 'adj': 'anxious', 'word': '', 'features': [], 'property': 'consistent or inconsistent (e.g., is information consistent or inconsistent)'}{'reasoning': \" The raven pecked at the string of Hugo's kite, making it weak. Since Hugo is at a distance from the kite, he wouldn't notice the string becoming weak until it breaks or the kite starts behaving differently. A raven pecking at the string is a valid reason for the string to become weak.\"}\n",
      "\n",
      "{'noun': 'scale', 'verb': 'remove', 'adj': 'scared', 'word': '', 'features': [], 'property': 'weight (e.g., is the object heavy, light, or moderate)'}{'reasoning': \" When the fishmonger removes the fish guts, the fish becomes lighter. However, Ravi wouldn't necessarily notice this change unless he picked up the fish again after it was cleaned. The fishmonger removing the guts is a valid reason for the fish to become lighter.\"}\n",
      "\n",
      "{'noun': 'gift', 'verb': 'think', 'adj': 'distant', 'word': '', 'features': [], 'property': 'stretched or unstretched (e.g., a rubber band, a string)'}{'reasoning': \" The distant cousin unwrapped the gift when no one was looking. Vito was at the party but he wasn't observing the gift at that moment, so he may not notice the change in the state of the gift immediately. The prank by the cousin is a valid reason for the gift to be unwrapped.\"}\n",
      "\n",
      "{'noun': 'pasta', 'verb': 'feel', 'adj': 'busy', 'word': '', 'features': [], 'property': 'coherent or fragmented (e.g., is a story coherent or fragmented)'}{'reasoning': ' Tim was busy cutting vegetables and not paying attention to the pasta box. His sister taking pasta from the box is a valid reason for the box to be less full. Tim might not notice the change until he reaches for the pasta box.'}\n",
      "\n"
     ]
    }
   ],
   "source": [
    "# print gen settings\n",
    "settings_file = f'{DATA_PATH}/tinytom_settings.txt'\n",
    "with open(settings_file, 'r') as f:\n",
    "    lines = f.readlines()\n",
    "    for i in neg_ids[:5]:\n",
    "        print(lines[i])"
   ]
  },
  {
   "cell_type": "markdown",
   "metadata": {},
   "source": [
    "## Ppl under base model"
   ]
  },
  {
   "cell_type": "code",
   "execution_count": 2,
   "metadata": {},
   "outputs": [
    {
     "name": "stderr",
     "output_type": "stream",
     "text": [
      "/Users/kanishk/opt/anaconda3/envs/marple/lib/python3.10/site-packages/tqdm/auto.py:22: TqdmWarning: IProgress not found. Please update jupyter and ipywidgets. See https://ipywidgets.readthedocs.io/en/stable/user_install.html\n",
      "  from .autonotebook import tqdm as notebook_tqdm\n"
     ]
    }
   ],
   "source": [
    "import evaluate\n",
    "perplexity = evaluate.load(\"perplexity\", module_type=\"metric\")\n"
   ]
  },
  {
   "cell_type": "code",
   "execution_count": 196,
   "metadata": {},
   "outputs": [],
   "source": [
    "# load tinystories\n",
    "path = f'../tinystories_words/tinystories_rows_gpt4.txt'\n",
    "tinystories = []\n",
    "with open(path, 'r') as f:\n",
    "    lines = f.readlines()\n",
    "    for line in lines:\n",
    "        tinystories.append(line.strip())\n",
    "path = f'../tinystories_words/tinystories_rows_gpt4.txt'\n",
    "tinystories_gpt4 = []\n",
    "with open(path, 'r') as f:\n",
    "    lines = f.readlines()\n",
    "    for line in lines:\n",
    "        tinystories_gpt4.append(line.strip())"
   ]
  },
  {
   "cell_type": "code",
   "execution_count": 197,
   "metadata": {},
   "outputs": [],
   "source": [
    "# load the tb and fb stories\n",
    "tb_stories = []\n",
    "fb_stories = []\n",
    "pos_tb_stories = []\n",
    "pos_fb_stories = []\n",
    "neg_tb_stories = []\n",
    "neg_fb_stories = []\n",
    "\n",
    "tb_cond_file  = f'../../data/conditions/tinytom/0_forward_belief_true_belief/converted.txt'\n",
    "fb_cond_file  = f'../../data/conditions/tinytom/0_forward_belief_false_belief/converted.txt'\n",
    "with open(tb_cond_file, 'r') as f:\n",
    "    lines = f.readlines()\n",
    "    for l, line in enumerate(lines):\n",
    "        tb_stories.append(line.strip())\n",
    "        if l in ids:\n",
    "            pos_tb_stories.append(line.strip())\n",
    "        if l in neg_ids:\n",
    "            neg_tb_stories.append(line.strip())\n",
    "\n",
    "with open(fb_cond_file, 'r') as f:\n",
    "    lines = f.readlines()\n",
    "    for l, line in enumerate(lines):        \n",
    "        fb_stories.append(line.strip())\n",
    "        if l in ids:\n",
    "            pos_fb_stories.append(line.strip())\n",
    "        if l in neg_ids:\n",
    "            neg_fb_stories.append(line.strip())"
   ]
  },
  {
   "cell_type": "code",
   "execution_count": 3,
   "metadata": {},
   "outputs": [],
   "source": [
    "\n",
    "max_len = 50\n",
    "def get_ppl(stories):\n",
    "    if len(stories) == 0:\n",
    "        return 0\n",
    "    elif len(stories) > max_len:\n",
    "        stories = stories[:max_len]\n",
    "        print('truncated list')\n",
    "    results = perplexity.compute(model_id='roneneldan/TinyStories-28M',\n",
    "                             add_start_token=True,\n",
    "                            #  batch_size=1,\n",
    "                             predictions=stories)\n",
    "    return results['perplexities'], results['mean_perplexity']\n"
   ]
  },
  {
   "cell_type": "code",
   "execution_count": 199,
   "metadata": {},
   "outputs": [
    {
     "name": "stdout",
     "output_type": "stream",
     "text": [
      "truncated list\n"
     ]
    },
    {
     "name": "stderr",
     "output_type": "stream",
     "text": [
      "Using pad_token, but it is not set yet.\n",
      "100%|██████████| 4/4 [00:25<00:00,  6.47s/it]\n"
     ]
    },
    {
     "name": "stdout",
     "output_type": "stream",
     "text": [
      "truncated list\n"
     ]
    },
    {
     "name": "stderr",
     "output_type": "stream",
     "text": [
      "Using pad_token, but it is not set yet.\n",
      "100%|██████████| 4/4 [00:28<00:00,  7.04s/it]\n",
      "Using pad_token, but it is not set yet.\n",
      "100%|██████████| 1/1 [00:03<00:00,  3.91s/it]\n",
      "Using pad_token, but it is not set yet.\n",
      "100%|██████████| 1/1 [00:03<00:00,  3.02s/it]\n",
      "Using pad_token, but it is not set yet.\n",
      "100%|██████████| 3/3 [00:19<00:00,  6.66s/it]\n",
      "Using pad_token, but it is not set yet.\n",
      "100%|██████████| 3/3 [00:21<00:00,  7.25s/it]\n"
     ]
    }
   ],
   "source": [
    "# get ppl of different lists\n",
    "tinystories_ppl_all, tinystories_ppl =  get_ppl(tinystories)\n",
    "tinystories_gpt4_ppl_all, tinystories_gpt4_ppl =  get_ppl(tinystories_gpt4)\n",
    "tb_ppl_all, tb_ppl = get_ppl(tb_stories)\n",
    "fb_ppl_all, fb_ppl = get_ppl(fb_stories)\n",
    "pos_tb_ppl_all, pos_tb_ppl = get_ppl(pos_tb_stories)\n",
    "pos_fb_ppl_all, pos_fb_ppl = get_ppl(pos_fb_stories)\n",
    "neg_tb_ppl_all, neg_tb_ppl = get_ppl(neg_tb_stories)\n",
    "neg_fb_ppl_all, neg_fb_ppl = get_ppl(neg_fb_stories)\n"
   ]
  },
  {
   "cell_type": "code",
   "execution_count": 203,
   "metadata": {},
   "outputs": [
    {
     "data": {
      "image/png": "[encoded data removed]",
      "text/plain": [
       "<Figure size 1000x600 with 1 Axes>"
      ]
     },
     "metadata": {},
     "output_type": "display_data"
    }
   ],
   "source": [
    "# plot the results\n",
    "import matplotlib.pyplot as plt\n",
    "import numpy as np\n",
    "\n",
    "names = ['TinyStories', 'TS-GPT4', 'TB', 'FB', 'Pos TB', 'Pos FB', 'Neg TB', 'Neg FB']\n",
    "means = [tinystories_ppl, tinystories_gpt4_ppl, tb_ppl, fb_ppl, pos_tb_ppl, pos_fb_ppl, neg_tb_ppl, neg_fb_ppl]\n",
    "medians = [np.median(tinystories_ppl_all), np.median(tinystories_gpt4_ppl_all), np.median(tb_ppl_all), np.median(fb_ppl_all), np.median(pos_tb_ppl_all), np.median(pos_fb_ppl_all), np.median(neg_tb_ppl_all), np.median(neg_fb_ppl_all)]\n",
    "stds = [np.std(tinystories_ppl_all), np.std(tinystories_gpt4_ppl_all), np.std(tb_ppl_all), np.std(fb_ppl_all), np.std(pos_tb_ppl_all), np.std(pos_fb_ppl_all), np.std(neg_tb_ppl_all), np.std(neg_fb_ppl_all)]\n",
    "# Create the bar plot with error bars\n",
    "fig, ax = plt.subplots(figsize=(10,6))\n",
    "ax.bar(names, means, yerr=stds, align='center', alpha=0.7, ecolor='black', capsize=10, color='skyblue')\n",
    "ax.scatter(names, medians, color='red', marker='D', label='Median', zorder=3)\n",
    "\n",
    "\n",
    "ax.set_ylabel('Perplexity')\n",
    "ax.set_title('Perplexity across Data Sources')\n",
    "ax.yaxis.grid(True)\n",
    "\n",
    "# Save and show the plot\n",
    "plt.tight_layout()\n",
    "plt.savefig('perplexity_plot.png')\n",
    "plt.show()"
   ]
  },
  {
   "cell_type": "markdown",
   "metadata": {},
   "source": [
    "## How does the length compare? "
   ]
  },
  {
   "cell_type": "code",
   "execution_count": 204,
   "metadata": {},
   "outputs": [],
   "source": [
    "# plot by mean length and std\n",
    "tinystories_len = [len(s.split()) for s in tinystories]\n",
    "tinystories_gpt4_len = [len(s.split()) for s in tinystories_gpt4]\n",
    "tb_len = [len(s.split()) for s in tb_stories]\n",
    "fb_len = [len(s.split()) for s in fb_stories]\n",
    "pos_tb_len = [len(s.split()) for s in pos_tb_stories]\n",
    "pos_fb_len = [len(s.split()) for s in pos_fb_stories]\n",
    "neg_tb_len = [len(s.split()) for s in neg_tb_stories]\n",
    "neg_fb_len = [len(s.split()) for s in neg_fb_stories]"
   ]
  },
  {
   "cell_type": "code",
   "execution_count": 268,
   "metadata": {},
   "outputs": [
    {
     "data": {
      "image/png": "[encoded data removed]",
      "text/plain": [
       "<Figure size 1000x600 with 1 Axes>"
      ]
     },
     "metadata": {},
     "output_type": "display_data"
    }
   ],
   "source": [
    "names = ['TinyStories', 'TS-GPT-4', 'TB', 'FB', 'Pos TB', 'Pos FB', 'Neg TB', 'Neg FB']\n",
    "means = [np.mean(tinystories_len), np.mean(tinystories_gpt4_len), np.mean(tb_len), np.mean(fb_len), np.mean(pos_tb_len), np.mean(pos_fb_len), np.mean(neg_tb_len), np.mean(neg_fb_len)]\n",
    "medians = [np.median(tinystories_len), np.median(tinystories_gpt4_len), np.median(tb_len), np.median(fb_len), np.median(pos_tb_len), np.median(pos_fb_len), np.median(neg_tb_len), np.median(neg_fb_len)]\n",
    "stds = [np.std(tinystories_len), np.std(tinystories_gpt4_len), np.std(tb_len), np.std(fb_len), np.std(pos_tb_len), np.std(pos_fb_len), np.std(neg_tb_len), np.std(neg_fb_len)]\n",
    "# Create the bar plot with error bars\n",
    "fig, ax = plt.subplots(figsize=(10,6))\n",
    "ax.bar(names, means, yerr=stds, align='center', alpha=0.7, ecolor='black', capsize=10, color='skyblue')\n",
    "ax.scatter(names, medians, color='red', marker='D', label='Median', zorder=3)\n",
    "ax.set_ylabel('Length')\n",
    "ax.set_title('Length across Data Sources')\n",
    "ax.yaxis.grid(True)\n",
    "\n",
    "# Save and show the plot\n",
    "plt.tight_layout()\n",
    "plt.savefig('length.png')\n",
    "plt.show()"
   ]
  },
  {
   "cell_type": "markdown",
   "metadata": {},
   "source": [
    "## More Perplexity Analysis"
   ]
  },
  {
   "cell_type": "code",
   "execution_count": 207,
   "metadata": {},
   "outputs": [
    {
     "name": "stdout",
     "output_type": "stream",
     "text": [
      "------------------\n",
      "Mean Perplexity\n",
      "------------------\n",
      "TinyStories:  3.6981243562698363 0.6496311453217404\n",
      "TS-GPT-4:  4.877189011573791 2.1776434343909514\n",
      "TB:  33.191984004974366 15.2043622409846\n",
      "FB:  33.98767538070679 16.245520198862\n",
      "Pos TB:  28.905580520629883 11.408093739381172\n",
      "Pos FB:  31.805203596750896 17.79924248435723\n",
      "Neg TB:  33.03294164256046 14.294903529634512\n",
      "Neg FB:  33.85008310016833 15.408711252302476\n",
      "------------------\n"
     ]
    }
   ],
   "source": [
    "# print means and stds in a pretty table\n",
    "print('------------------')\n",
    "print('Mean Perplexity')\n",
    "print('------------------')\n",
    "print('TinyStories: ', tinystories_ppl, np.std(tinystories_ppl_all))\n",
    "print('TS-GPT-4: ', tinystories_gpt4_ppl, np.std(tinystories_gpt4_ppl_all))\n",
    "print('TB: ', tb_ppl, np.std(tb_ppl_all))\n",
    "print('FB: ', fb_ppl, np.std(fb_ppl_all))\n",
    "print('Pos TB: ', pos_tb_ppl, np.std(pos_tb_ppl_all))\n",
    "print('Pos FB: ', pos_fb_ppl, np.std(pos_fb_ppl_all))\n",
    "print('Neg TB: ', neg_tb_ppl, np.std(neg_tb_ppl_all))\n",
    "print('Neg FB: ', neg_fb_ppl, np.std(neg_fb_ppl_all))\n",
    "print('------------------')"
   ]
  },
  {
   "cell_type": "code",
   "execution_count": 214,
   "metadata": {},
   "outputs": [
    {
     "name": "stdout",
     "output_type": "stream",
     "text": [
      "------------------\n",
      "Max, Min, Median Perplexity\n",
      "------------------\n",
      "pos_tb_ppl_all:  18.051504135131836 51.546836853027344 23.86131000518799\n",
      "neg_tb_ppl_all:  14.819050788879395 75.05628204345703 28.580957412719727\n",
      "pos_fb_ppl_all:  15.821732521057129 69.3550033569336 26.23844051361084\n",
      "neg_fb_ppl_all:  14.303092002868652 82.77051544189453 28.559767723083496\n",
      "------------------\n"
     ]
    }
   ],
   "source": [
    "# pretty print the max, min perplexities\n",
    "print('------------------')\n",
    "print('Max, Min, Median Perplexity')\n",
    "print('------------------')\n",
    "print('pos_tb_ppl_all: ', min(pos_tb_ppl_all), max(pos_tb_ppl_all), np.median(pos_tb_ppl_all))\n",
    "print('neg_tb_ppl_all: ', min(neg_tb_ppl_all), max(neg_tb_ppl_all), np.median(neg_tb_ppl_all))\n",
    "print('pos_fb_ppl_all: ', min(pos_fb_ppl_all), max(pos_fb_ppl_all), np.median(pos_fb_ppl_all))\n",
    "print('neg_fb_ppl_all: ', min(neg_fb_ppl_all), max(neg_fb_ppl_all), np.median(neg_fb_ppl_all))\n",
    "print('------------------')"
   ]
  },
  {
   "cell_type": "code",
   "execution_count": 215,
   "metadata": {},
   "outputs": [
    {
     "name": "stdout",
     "output_type": "stream",
     "text": [
      "------------------\n",
      "Mean Perplexity\n",
      "------------------\n",
      "Pos:  30.355392058690388 15.019346569928434\n",
      "Neg:  33.44151237136439 14.867859789816102\n",
      "------------------\n"
     ]
    }
   ],
   "source": [
    "pos_ppl = np.array(pos_tb_ppl_all + pos_fb_ppl_all)\n",
    "neg_ppl = np.array(neg_tb_ppl_all + neg_fb_ppl_all)\n",
    "print('------------------')\n",
    "print('Mean Perplexity')\n",
    "print('------------------')\n",
    "print('Pos: ', np.mean(pos_ppl), np.std(pos_ppl))\n",
    "print('Neg: ', np.mean(neg_ppl), np.std(neg_ppl))\n",
    "print('------------------')"
   ]
  },
  {
   "cell_type": "code",
   "execution_count": 216,
   "metadata": {},
   "outputs": [
    {
     "name": "stdout",
     "output_type": "stream",
     "text": [
      "------------------\n",
      "Max, Min, Median Perplexity\n",
      "------------------\n",
      "Pos:  15.821732521057129 69.3550033569336 23.86131000518799\n",
      "Neg:  14.303092002868652 82.77051544189453 28.559767723083496\n",
      "------------------\n"
     ]
    }
   ],
   "source": [
    "print('------------------')\n",
    "print('Max, Min, Median Perplexity')\n",
    "print('------------------')\n",
    "print('Pos: ', min(pos_ppl), max(pos_ppl), np.median(pos_ppl))\n",
    "print('Neg: ', min(neg_ppl), max(neg_ppl), np.median(neg_ppl))\n",
    "print('------------------')"
   ]
  },
  {
   "cell_type": "markdown",
   "metadata": {},
   "source": [
    "## Part-wise perplexity analysis"
   ]
  },
  {
   "cell_type": "code",
   "execution_count": 241,
   "metadata": {},
   "outputs": [],
   "source": [
    "# read converted parts\n",
    "path = f'../../data/tinytom/tinytom_converted_parts.txt'\n",
    "all_parts = {\n",
    "    'context': [],\n",
    "    'change': []\n",
    "}\n",
    "unconverted_parts = {\n",
    "    'context': [],\n",
    "    'change': []\n",
    "}\n",
    "pos_parts = {\n",
    "    'context': [],\n",
    "    'change': []\n",
    "}\n",
    "neg_parts = {\n",
    "    'context': [],\n",
    "    'change': []\n",
    "}\n",
    "with open(path, 'r') as f:\n",
    "    lines = f.readlines()\n",
    "    for l, line in enumerate(lines):\n",
    "        context, change, _ = line.strip().split(';')\n",
    "        all_parts['context'].append(context)\n",
    "        all_parts['change'].append(context + '. ' + change)\n",
    "        if l in ids:\n",
    "            pos_parts['context'].append(context)\n",
    "            pos_parts['change'].append(context + '. ' + change)\n",
    "        if l in neg_ids:\n",
    "            neg_parts['context'].append(context)\n",
    "            neg_parts['change'].append(context + '. ' + change)\n",
    "\n",
    "unconverted_path = f'../../data/conditions/tinytom/0_forward_belief_true_belief/stories_trimmed.csv'\n",
    "with open(unconverted_path, 'r') as f:\n",
    "    lines = f.readlines()\n",
    "    for l, line in enumerate(lines):\n",
    "        context_change = line.split(';')[0].strip()\n",
    "        assert len(context_change.split('. ')) == 5\n",
    "        sentences = context_change.split('. ')\n",
    "        context = '. '.join(sentences[:3]) + '.'\n",
    "        unconverted_parts['context'].append(context)\n",
    "        unconverted_parts['change'].append(context_change)\n"
   ]
  },
  {
   "cell_type": "code",
   "execution_count": 242,
   "metadata": {},
   "outputs": [
    {
     "name": "stdout",
     "output_type": "stream",
     "text": [
      "Nala was in her room ready to sleep. Nala wants to have a good night's sleep without any nightmares. The door to Nala's room is locked. Once upon a time, in a cozy little room, lived a girl named Nala. She was all tucked in, ready for a peaceful night's sleep. She wished for sweet dreams, no scary nightmares tonight! Her room door was safely locked.\n",
      "Nala was in her room ready to sleep. Nala wants to have a good night's sleep without any nightmares. The door to Nala's room is locked. Her little brother manages to find the spare key and unlocks the door to her room. Nala hears her brother unlocking the door. Once upon a time, in a cozy little room, lived a girl named Nala. She was all tucked in, ready for a peaceful night's sleep. She wished for sweet dreams, no scary nightmares tonight! Her room door was safely locked.. With a giggle, her baby brother found the extra key. He used it to open the door to her room, just like in a game of hide and seek.\n"
     ]
    }
   ],
   "source": [
    "print(unconverted_parts['context'][0], all_parts['context'][0])\n",
    "print(unconverted_parts['change'][0], all_parts['change'][0])"
   ]
  },
  {
   "cell_type": "code",
   "execution_count": 243,
   "metadata": {},
   "outputs": [
    {
     "name": "stdout",
     "output_type": "stream",
     "text": [
      "truncated list\n"
     ]
    },
    {
     "name": "stderr",
     "output_type": "stream",
     "text": [
      "Using pad_token, but it is not set yet.\n",
      "100%|██████████| 4/4 [00:06<00:00,  1.74s/it]\n"
     ]
    },
    {
     "name": "stdout",
     "output_type": "stream",
     "text": [
      "truncated list\n"
     ]
    },
    {
     "name": "stderr",
     "output_type": "stream",
     "text": [
      "Using pad_token, but it is not set yet.\n",
      "100%|██████████| 4/4 [00:14<00:00,  3.62s/it]\n"
     ]
    },
    {
     "name": "stdout",
     "output_type": "stream",
     "text": [
      "truncated list\n"
     ]
    },
    {
     "name": "stderr",
     "output_type": "stream",
     "text": [
      "Using pad_token, but it is not set yet.\n",
      "100%|██████████| 4/4 [00:22<00:00,  5.62s/it]\n",
      "Using pad_token, but it is not set yet.\n",
      "100%|██████████| 1/1 [00:01<00:00,  1.49s/it]\n",
      "Using pad_token, but it is not set yet.\n",
      "100%|██████████| 1/1 [00:02<00:00,  2.31s/it]\n",
      "Using pad_token, but it is not set yet.\n",
      "100%|██████████| 3/3 [00:08<00:00,  2.84s/it]\n",
      "Using pad_token, but it is not set yet.\n",
      "100%|██████████| 3/3 [00:15<00:00,  5.05s/it]\n"
     ]
    }
   ],
   "source": [
    "unconverted_parts_context_ppl_all, unconverted_parts_context_ppl = get_ppl(unconverted_parts['context'])\n",
    "parts_context_ppl_all, parts_context_ppl = get_ppl(all_parts['context'])\n",
    "parts_change_ppl_all, parts_change_ppl = get_ppl(all_parts['change'])\n",
    "pos_parts_context_ppl_all, pos_parts_context_ppl = get_ppl(pos_parts['context'])\n",
    "pos_parts_change_ppl_all, pos_parts_change_ppl = get_ppl(pos_parts['change'])\n",
    "neg_parts_context_ppl_all, neg_parts_context_ppl = get_ppl(neg_parts['context'])\n",
    "neg_parts_change_ppl_all, neg_parts_change_ppl = get_ppl(neg_parts['change'])\n"
   ]
  },
  {
   "cell_type": "code",
   "execution_count": 267,
   "metadata": {},
   "outputs": [
    {
     "data": {
      "image/png": "[encoded data removed]",
      "text/plain": [
       "<Figure size 1000x600 with 1 Axes>"
      ]
     },
     "metadata": {},
     "output_type": "display_data"
    }
   ],
   "source": [
    "# plot the results\n",
    "names = ['Uncon. Ctx', 'Uncon. Chg', 'Context',  'Change', 'Pos Context', 'Pos Change', 'Neg Context', 'Neg Change']\n",
    "means = [unconverted_parts_context_ppl, unconverted_parts_context_ppl, parts_context_ppl, parts_change_ppl, pos_parts_context_ppl, pos_parts_change_ppl, neg_parts_context_ppl, neg_parts_change_ppl]\n",
    "medians = [np.median(unconverted_parts_context_ppl_all), np.median(unconverted_parts_context_ppl_all), np.median(parts_context_ppl_all), np.median(parts_change_ppl_all), np.median(pos_parts_context_ppl_all), np.median(pos_parts_change_ppl_all), np.median(neg_parts_context_ppl_all), np.median(neg_parts_change_ppl_all)]\n",
    "stds = [np.std(unconverted_parts_context_ppl_all), np.std(unconverted_parts_context_ppl_all), np.std(parts_context_ppl_all), np.std(parts_change_ppl_all), np.std(pos_parts_context_ppl_all), np.std(pos_parts_change_ppl_all), np.std(neg_parts_context_ppl_all), np.std(neg_parts_change_ppl_all)]\n",
    "# Create the bar plot with error bars\n",
    "fig, ax = plt.subplots(figsize=(10,6))\n",
    "ax.bar(names, means, yerr=stds, align='center', alpha=0.7, ecolor='black', capsize=10, color='skyblue')\n",
    "ax.scatter(names, medians, color='red', marker='D', label='Median', zorder=3)\n",
    "ax.set_ylabel('Perplexity')\n",
    "ax.set_title('Perplexity across story parts')\n",
    "ax.yaxis.grid(True)\n",
    "\n",
    "# Save and show the plot\n",
    "plt.tight_layout()\n",
    "plt.savefig('perplexity_parts_plot.png')\n",
    "plt.show()\n"
   ]
  },
  {
   "cell_type": "code",
   "execution_count": 249,
   "metadata": {},
   "outputs": [
    {
     "name": "stdout",
     "output_type": "stream",
     "text": [
      "------------------\n",
      "Uncon.Ctx\n",
      "------------------\n",
      "64.33 & 37.33 & 15.57 & 592.19 & 86.58 \\\\\n",
      "------------------\n",
      "Uncon.Chg\n",
      "------------------\n",
      "64.33 & 37.33 & 15.57 & 592.19 & 86.58 \\\\\n",
      "------------------\n",
      "Context\n",
      "------------------\n",
      "22.21 & 19.45 & 7.47 & 55.31 & 11.13 \\\\\n",
      "------------------\n",
      "Change\n",
      "------------------\n",
      "34.07 & 29.83 & 14.93 & 82.58 & 15.48 \\\\\n",
      "------------------\n",
      "Pos Context\n",
      "------------------\n",
      "18.96 & 13.92 & 9.08 & 47.07 & 12.82 \\\\\n",
      "------------------\n",
      "Neg Context\n",
      "------------------\n",
      "22.00 & 21.15 & 7.47 & 55.31 & 10.89 \\\\\n",
      "------------------\n",
      "Pos Change\n",
      "------------------\n",
      "34.24 & 23.96 & 15.47 & 82.58 & 22.65 \\\\\n",
      "------------------\n",
      "Neg Change\n",
      "------------------\n",
      "33.41 & 29.83 & 14.93 & 73.23 & 14.26 \\\\\n",
      "------------------\n"
     ]
    }
   ],
   "source": [
    "# pretty print the mean, median, min, max, std perplexities\n",
    "print('------------------')\n",
    "print('Uncon.Ctx')\n",
    "print('------------------')\n",
    "print(f\"{unconverted_parts_context_ppl:.2f} & {np.median(unconverted_parts_context_ppl_all):.2f} & {min(unconverted_parts_context_ppl_all):.2f} & {max(unconverted_parts_context_ppl_all):.2f} & {np.std(unconverted_parts_context_ppl_all):.2f} \\\\\\\\\")\n",
    "print('------------------')\n",
    "print('Uncon.Chg')\n",
    "print('------------------')\n",
    "print(f\"{unconverted_parts_context_ppl:.2f} & {np.median(unconverted_parts_context_ppl_all):.2f} & {min(unconverted_parts_context_ppl_all):.2f} & {max(unconverted_parts_context_ppl_all):.2f} & {np.std(unconverted_parts_context_ppl_all):.2f} \\\\\\\\\")\n",
    "print('------------------')\n",
    "print('Context')\n",
    "print('------------------')\n",
    "print(f\"{parts_context_ppl:.2f} & {np.median(parts_context_ppl_all):.2f} & {min(parts_context_ppl_all):.2f} & {max(parts_context_ppl_all):.2f} & {np.std(parts_context_ppl_all):.2f} \\\\\\\\\")\n",
    "print('------------------')\n",
    "print('Change')\n",
    "print('------------------')\n",
    "print(f\"{parts_change_ppl:.2f} & {np.median(parts_change_ppl_all):.2f} & {min(parts_change_ppl_all):.2f} & {max(parts_change_ppl_all):.2f} & {np.std(parts_change_ppl_all):.2f} \\\\\\\\\")\n",
    "print('------------------')\n",
    "print('Pos Context')\n",
    "print('------------------')\n",
    "print(f\"{pos_parts_context_ppl:.2f} & {np.median(pos_parts_context_ppl_all):.2f} & {min(pos_parts_context_ppl_all):.2f} & {max(pos_parts_context_ppl_all):.2f} & {np.std(pos_parts_context_ppl_all):.2f} \\\\\\\\\")\n",
    "print('------------------')\n",
    "print('Neg Context')\n",
    "print('------------------')\n",
    "print(f\"{neg_parts_context_ppl:.2f} & {np.median(neg_parts_context_ppl_all):.2f} & {min(neg_parts_context_ppl_all):.2f} & {max(neg_parts_context_ppl_all):.2f} & {np.std(neg_parts_context_ppl_all):.2f} \\\\\\\\\")\n",
    "print('------------------')\n",
    "print('Pos Change')\n",
    "print('------------------')\n",
    "print(f\"{pos_parts_change_ppl:.2f} & {np.median(pos_parts_change_ppl_all):.2f} & {min(pos_parts_change_ppl_all):.2f} & {max(pos_parts_change_ppl_all):.2f} & {np.std(pos_parts_change_ppl_all):.2f} \\\\\\\\\")\n",
    "print('------------------')\n",
    "print('Neg Change')\n",
    "print('------------------')\n",
    "print(f\"{neg_parts_change_ppl:.2f} & {np.median(neg_parts_change_ppl_all):.2f} & {min(neg_parts_change_ppl_all):.2f} & {max(neg_parts_change_ppl_all):.2f} & {np.std(neg_parts_change_ppl_all):.2f} \\\\\\\\\")\n",
    "print('------------------')\n",
    "\n",
    "\n",
    "\n"
   ]
  },
  {
   "cell_type": "code",
   "execution_count": 270,
   "metadata": {},
   "outputs": [
    {
     "data": {
      "image/png": "[encoded data removed]",
      "text/plain": [
       "<Figure size 1000x600 with 1 Axes>"
      ]
     },
     "metadata": {},
     "output_type": "display_data"
    },
    {
     "data": {
      "image/png": "[encoded data removed]",
      "text/plain": [
       "<Figure size 1000x600 with 1 Axes>"
      ]
     },
     "metadata": {},
     "output_type": "display_data"
    }
   ],
   "source": [
    "# split the plots by context and change\n",
    "# plot the results\n",
    "names = ['Context', 'Pos Context', 'Neg Context']\n",
    "means = [parts_context_ppl, pos_parts_context_ppl, neg_parts_context_ppl]\n",
    "medians = [np.median(parts_context_ppl_all), np.median(pos_parts_context_ppl_all), np.median(neg_parts_context_ppl_all)]\n",
    "stds = [np.std(parts_context_ppl_all), np.std(pos_parts_context_ppl_all), np.std(neg_parts_context_ppl_all)]\n",
    "# Create the bar plot with error bars\n",
    "fig, ax = plt.subplots(figsize=(10,6))\n",
    "ax.bar(names, means, yerr=stds, align='center', alpha=0.7, ecolor='black', capsize=10, color='skyblue')\n",
    "ax.scatter(names, medians, color='red', marker='D', label='Median', zorder=3)\n",
    "ax.set_ylabel('Perplexity')\n",
    "ax.set_title('Perplexity across contexts.')\n",
    "ax.yaxis.grid(True)\n",
    "\n",
    "# Save and show the plot\n",
    "plt.tight_layout()\n",
    "plt.savefig('perplexity_context_plot.png')\n",
    "plt.show()\n",
    "\n",
    "# plot the results\n",
    "names = ['Change', 'Pos Change', 'Neg Change']\n",
    "means = [parts_change_ppl, pos_parts_change_ppl, neg_parts_change_ppl]\n",
    "medians = [np.median(parts_change_ppl_all), np.median(pos_parts_change_ppl_all), np.median(neg_parts_change_ppl_all)]\n",
    "stds = [np.std(parts_change_ppl_all), np.std(pos_parts_change_ppl_all), np.std(neg_parts_change_ppl_all)]\n",
    "# Create the bar plot with error bars\n",
    "fig, ax = plt.subplots(figsize=(10,6))\n",
    "ax.bar(names, means, yerr=stds, align='center', alpha=0.7, ecolor='black', capsize=10, color='skyblue')\n",
    "ax.scatter(names, medians, color='red', marker='D', label='Median', zorder=3)\n",
    "ax.set_ylabel('Perplexity')\n",
    "ax.set_title('Perplexity across changes.')\n",
    "ax.yaxis.grid(True)\n",
    "\n",
    "# Save and show the plot\n",
    "plt.tight_layout()\n",
    "plt.savefig('perplexity_change_plot.png')\n",
    "plt.show()"
   ]
  },
  {
   "cell_type": "markdown",
   "metadata": {},
   "source": [
    "# Test name change"
   ]
  },
  {
   "cell_type": "code",
   "execution_count": 265,
   "metadata": {},
   "outputs": [
    {
     "name": "stdout",
     "output_type": "stream",
     "text": [
      "7.474111557006836\n",
      "Once upon a time, Gigi and her friends were playing in the park. Gigi had a box full of big, yummy mints. She wanted to share her mints with all her friends.\n"
     ]
    }
   ],
   "source": [
    "print(parts_context_ppl_all[6])\n",
    "print(all_parts[\"context\"][6])\n"
   ]
  },
  {
   "cell_type": "code",
   "execution_count": 266,
   "metadata": {},
   "outputs": [
    {
     "name": "stderr",
     "output_type": "stream",
     "text": [
      "Using pad_token, but it is not set yet.\n",
      "100%|██████████| 1/1 [00:00<00:00,  4.73it/s]"
     ]
    },
    {
     "name": "stdout",
     "output_type": "stream",
     "text": [
      "7.911665916442871\n"
     ]
    },
    {
     "name": "stderr",
     "output_type": "stream",
     "text": [
      "\n"
     ]
    }
   ],
   "source": [
    "name_change = \"Once upon a time, Lily and her friends were playing in the park. Lily had a box full of big, yummy mints. She wanted to share her mints with all her friends.\"\n",
    "\n",
    "print(get_ppl([name_change])[1])"
   ]
  },
  {
   "cell_type": "markdown",
   "metadata": {},
   "source": [
    "# Propose filter\n"
   ]
  },
  {
   "cell_type": "code",
   "execution_count": 16,
   "metadata": {},
   "outputs": [],
   "source": [
    "# filter parameters\n",
    "# condition thresholds\n",
    "tb_thresh = 23.86131000518799\n",
    "fb_thresh = 26.23844051361084\n",
    "# part-based thresholds\n",
    "context_thresh = 13.92\n",
    "change_thresh = 23.96"
   ]
  },
  {
   "cell_type": "markdown",
   "metadata": {},
   "source": [
    "# TinyToM v1.0 with filter\n"
   ]
  },
  {
   "cell_type": "code",
   "execution_count": 17,
   "metadata": {},
   "outputs": [],
   "source": [
    "# read files\n",
    "\n",
    "offset = 100 # converted parts dont exist for the first 50 in a separate file\n",
    "tb1_stories = []\n",
    "fb1_stories = []\n",
    "tt1_parts = {\n",
    "    'context': [],\n",
    "    'change': []\n",
    "}\n",
    "\n",
    "tb1_cond_file  = f'../../data/conditions/tinytom-v1/0_forward_belief_true_belief/converted.txt'\n",
    "fb1_cond_file  = f'../../data/conditions/tinytom-v1/0_forward_belief_false_belief/converted.txt'\n",
    "with open(tb1_cond_file, 'r') as f:\n",
    "    lines = f.readlines()\n",
    "    for l, line in enumerate(lines[offset:]):\n",
    "        tb1_stories.append(line.strip())\n",
    "\n",
    "with open(fb1_cond_file, 'r') as f:\n",
    "    lines = f.readlines()\n",
    "    for l, line in enumerate(lines[offset:]):        \n",
    "        fb1_stories.append(line.strip())\n",
    "\n",
    "path = f'../../data/tinytom/v1/tinytom_converted_parts.txt'\n",
    "\n",
    "with open(path, 'r') as f:\n",
    "    lines = f.readlines()\n",
    "    for l, line in enumerate(lines[offset:]):\n",
    "        context, change, _ = line.strip().split(';')\n",
    "        tt1_parts['context'].append(context)\n",
    "        tt1_parts['change'].append(context + '. ' + change)"
   ]
  },
  {
   "cell_type": "code",
   "execution_count": 18,
   "metadata": {},
   "outputs": [
    {
     "name": "stdout",
     "output_type": "stream",
     "text": [
      "getting ppl for 463 templates\n",
      "getting ppl for 0 to 50/463 templates\n"
     ]
    },
    {
     "name": "stderr",
     "output_type": "stream",
     "text": [
      "Using pad_token, but it is not set yet.\n",
      "100%|██████████| 4/4 [00:22<00:00,  5.52s/it]\n",
      "Using pad_token, but it is not set yet.\n",
      "100%|██████████| 4/4 [00:26<00:00,  6.50s/it]\n",
      "Using pad_token, but it is not set yet.\n",
      "100%|██████████| 4/4 [00:11<00:00,  2.89s/it]\n",
      "Using pad_token, but it is not set yet.\n",
      "100%|██████████| 4/4 [00:19<00:00,  4.75s/it]\n"
     ]
    },
    {
     "name": "stdout",
     "output_type": "stream",
     "text": [
      "getting ppl for 50 to 100/463 templates\n"
     ]
    },
    {
     "name": "stderr",
     "output_type": "stream",
     "text": [
      "Using pad_token, but it is not set yet.\n",
      "100%|██████████| 4/4 [00:26<00:00,  6.60s/it]\n",
      "Using pad_token, but it is not set yet.\n",
      "100%|██████████| 4/4 [00:30<00:00,  7.63s/it]\n",
      "Using pad_token, but it is not set yet.\n",
      "100%|██████████| 4/4 [00:14<00:00,  3.75s/it]\n",
      "Using pad_token, but it is not set yet.\n",
      "100%|██████████| 4/4 [00:22<00:00,  5.61s/it]\n"
     ]
    },
    {
     "name": "stdout",
     "output_type": "stream",
     "text": [
      "getting ppl for 100 to 150/463 templates\n"
     ]
    },
    {
     "name": "stderr",
     "output_type": "stream",
     "text": [
      "Using pad_token, but it is not set yet.\n",
      "100%|██████████| 4/4 [00:21<00:00,  5.34s/it]\n",
      "Using pad_token, but it is not set yet.\n",
      "100%|██████████| 4/4 [00:24<00:00,  6.02s/it]\n",
      "Using pad_token, but it is not set yet.\n",
      "100%|██████████| 4/4 [00:10<00:00,  2.70s/it]\n",
      "Using pad_token, but it is not set yet.\n",
      "100%|██████████| 4/4 [00:19<00:00,  4.97s/it]\n"
     ]
    },
    {
     "name": "stdout",
     "output_type": "stream",
     "text": [
      "getting ppl for 150 to 200/463 templates\n"
     ]
    },
    {
     "name": "stderr",
     "output_type": "stream",
     "text": [
      "Using pad_token, but it is not set yet.\n",
      "100%|██████████| 4/4 [00:26<00:00,  6.51s/it]\n",
      "Using pad_token, but it is not set yet.\n",
      "100%|██████████| 4/4 [00:25<00:00,  6.40s/it]\n",
      "Using pad_token, but it is not set yet.\n",
      "100%|██████████| 4/4 [00:12<00:00,  3.14s/it]\n",
      "Using pad_token, but it is not set yet.\n",
      "100%|██████████| 4/4 [00:17<00:00,  4.39s/it]\n"
     ]
    },
    {
     "name": "stdout",
     "output_type": "stream",
     "text": [
      "getting ppl for 200 to 250/463 templates\n"
     ]
    },
    {
     "name": "stderr",
     "output_type": "stream",
     "text": [
      "Using pad_token, but it is not set yet.\n",
      "100%|██████████| 4/4 [00:18<00:00,  4.60s/it]\n",
      "Using pad_token, but it is not set yet.\n",
      "100%|██████████| 4/4 [00:18<00:00,  4.68s/it]\n",
      "Using pad_token, but it is not set yet.\n",
      "100%|██████████| 4/4 [00:08<00:00,  2.22s/it]\n",
      "Using pad_token, but it is not set yet.\n",
      "100%|██████████| 4/4 [00:13<00:00,  3.48s/it]\n"
     ]
    },
    {
     "name": "stdout",
     "output_type": "stream",
     "text": [
      "getting ppl for 250 to 300/463 templates\n"
     ]
    },
    {
     "name": "stderr",
     "output_type": "stream",
     "text": [
      "Using pad_token, but it is not set yet.\n",
      "100%|██████████| 4/4 [00:19<00:00,  4.88s/it]\n",
      "Using pad_token, but it is not set yet.\n",
      "100%|██████████| 4/4 [00:22<00:00,  5.52s/it]\n",
      "Using pad_token, but it is not set yet.\n",
      "100%|██████████| 4/4 [00:12<00:00,  3.03s/it]\n",
      "Using pad_token, but it is not set yet.\n",
      "100%|██████████| 4/4 [00:16<00:00,  4.12s/it]\n"
     ]
    },
    {
     "name": "stdout",
     "output_type": "stream",
     "text": [
      "getting ppl for 300 to 350/463 templates\n"
     ]
    },
    {
     "name": "stderr",
     "output_type": "stream",
     "text": [
      "Using pad_token, but it is not set yet.\n",
      "100%|██████████| 4/4 [00:27<00:00,  6.93s/it]\n",
      "Using pad_token, but it is not set yet.\n",
      "100%|██████████| 4/4 [00:25<00:00,  6.27s/it]\n",
      "Using pad_token, but it is not set yet.\n",
      "100%|██████████| 4/4 [00:12<00:00,  3.17s/it]\n",
      "Using pad_token, but it is not set yet.\n",
      "100%|██████████| 4/4 [00:18<00:00,  4.69s/it]\n"
     ]
    },
    {
     "name": "stdout",
     "output_type": "stream",
     "text": [
      "getting ppl for 350 to 400/463 templates\n"
     ]
    },
    {
     "name": "stderr",
     "output_type": "stream",
     "text": [
      "Using pad_token, but it is not set yet.\n",
      "100%|██████████| 4/4 [00:22<00:00,  5.66s/it]\n",
      "Using pad_token, but it is not set yet.\n",
      "100%|██████████| 4/4 [00:23<00:00,  5.77s/it]\n",
      "Using pad_token, but it is not set yet.\n",
      "100%|██████████| 4/4 [00:10<00:00,  2.73s/it]\n",
      "Using pad_token, but it is not set yet.\n",
      "100%|██████████| 4/4 [00:19<00:00,  4.75s/it]\n"
     ]
    },
    {
     "name": "stdout",
     "output_type": "stream",
     "text": [
      "getting ppl for 400 to 450/463 templates\n"
     ]
    },
    {
     "name": "stderr",
     "output_type": "stream",
     "text": [
      "Using pad_token, but it is not set yet.\n",
      "100%|██████████| 4/4 [00:21<00:00,  5.42s/it]\n",
      "Using pad_token, but it is not set yet.\n",
      "100%|██████████| 4/4 [00:22<00:00,  5.60s/it]\n",
      "Using pad_token, but it is not set yet.\n",
      "100%|██████████| 4/4 [00:09<00:00,  2.47s/it]\n",
      "Using pad_token, but it is not set yet.\n",
      "100%|██████████| 4/4 [00:19<00:00,  4.79s/it]\n"
     ]
    },
    {
     "name": "stdout",
     "output_type": "stream",
     "text": [
      "getting ppl for 450 to 500/463 templates\n"
     ]
    },
    {
     "name": "stderr",
     "output_type": "stream",
     "text": [
      "Using pad_token, but it is not set yet.\n",
      "100%|██████████| 1/1 [00:05<00:00,  5.83s/it]\n",
      "Using pad_token, but it is not set yet.\n",
      "100%|██████████| 1/1 [00:05<00:00,  5.59s/it]\n",
      "Using pad_token, but it is not set yet.\n",
      "100%|██████████| 1/1 [00:02<00:00,  2.70s/it]\n",
      "Using pad_token, but it is not set yet.\n",
      "100%|██████████| 1/1 [00:04<00:00,  4.86s/it]\n"
     ]
    }
   ],
   "source": [
    "# get ppl of different lists\n",
    "# batch size 50\n",
    "print(f\"getting ppl for {len(tb1_stories)} templates\")\n",
    "tb1_ppl, fb1_ppl, tt1_context_ppl, tt1_change_ppl = [], [], [], []\n",
    "for i in range(0, len(tb1_stories), 50):\n",
    "    print(f\"getting ppl for {i} to {i+50}/{len(tb1_stories)} templates\")\n",
    "    if i + 50 > len(tb1_stories):\n",
    "        batch_tb_stories = tb1_stories[i:]\n",
    "        batch_fb_stories = fb1_stories[i:]\n",
    "        batch_tt_context = tt1_parts['context'][i:]\n",
    "        batch_tt_change = tt1_parts['change'][i:]\n",
    "    else:\n",
    "        batch_tb_stories = tb1_stories[i:i+50]\n",
    "        batch_fb_stories = fb1_stories[i:i+50]\n",
    "        batch_tt_context = tt1_parts['context'][i:i+50]\n",
    "        batch_tt_change = tt1_parts['change'][i:i+50]\n",
    "        \n",
    "    batch_tb_ppl, _ = get_ppl(tb1_stories[i:i+50])\n",
    "    batch_fb_ppl, _ = get_ppl(fb1_stories[i:i+50])\n",
    "    batch_tt_context_ppl, _ = get_ppl(tt1_parts['context'][i:i+50])\n",
    "    batch_tt_change_ppl, _ = get_ppl(tt1_parts['change'][i:i+50])\n",
    "    tb1_ppl+=batch_tb_ppl\n",
    "    fb1_ppl+=batch_fb_ppl\n",
    "    tt1_context_ppl+=batch_tt_context_ppl\n",
    "    tt1_change_ppl+=batch_tt_change_ppl"
   ]
  },
  {
   "cell_type": "code",
   "execution_count": 20,
   "metadata": {},
   "outputs": [
    {
     "name": "stdout",
     "output_type": "stream",
     "text": [
      "tb1_ppl: 31.13096433272887\n",
      "fb1_ppl: 29.94750014237142\n",
      "tt1_context_ppl: 19.447871960007603\n",
      "tt1_change_ppl: 32.96632177628915\n"
     ]
    }
   ],
   "source": [
    "# show average perplexity\n",
    "import numpy as np\n",
    "print(f\"tb1_ppl: {np.mean(tb1_ppl)}\")\n",
    "print(f\"fb1_ppl: {np.mean(fb1_ppl)}\")\n",
    "print(f\"tt1_context_ppl: {np.mean(tt1_context_ppl)}\")\n",
    "print(f\"tt1_change_ppl: {np.mean(tt1_change_ppl)}\")"
   ]
  },
  {
   "cell_type": "markdown",
   "metadata": {},
   "source": [
    "# TinyToM v1.0 analysis\n"
   ]
  },
  {
   "cell_type": "code",
   "execution_count": 22,
   "metadata": {},
   "outputs": [],
   "source": [
    "# filter the templates\n",
    "ids_to_remove, ids_to_keep = [], []\n",
    "change_filters_triggered, context_filters_triggered, tb_filters_triggered, fb_filters_triggered = [], [], [], []\n",
    "for i in range(len(tb1_stories)):\n",
    "    if tb1_ppl[i] > tb_thresh:\n",
    "        tb_filters_triggered.append(i) \n",
    "    elif fb1_ppl[i] > fb_thresh:\n",
    "        fb_filters_triggered.append(i)\n",
    "    elif tt1_context_ppl[i] > context_thresh:\n",
    "        context_filters_triggered.append(i)\n",
    "    elif tt1_change_ppl[i] > change_thresh:\n",
    "        change_filters_triggered.append(i)\n",
    "    else:\n",
    "        ids_to_keep.append(i)\n",
    "        continue\n",
    "    ids_to_remove.append(i)"
   ]
  },
  {
   "cell_type": "code",
   "execution_count": 23,
   "metadata": {},
   "outputs": [
    {
     "name": "stdout",
     "output_type": "stream",
     "text": [
      "tb_filters_triggered: 303\n",
      "fb_filters_triggered: 0\n",
      "context_filters_triggered: 53\n",
      "change_filters_triggered: 21\n",
      "ids_to_remove: 377\n",
      "ids_to_keep: 86\n"
     ]
    }
   ],
   "source": [
    "# print results\n",
    "print(f\"tb_filters_triggered: {len(tb_filters_triggered)}\")\n",
    "print(f\"fb_filters_triggered: {len(fb_filters_triggered)}\")\n",
    "print(f\"context_filters_triggered: {len(context_filters_triggered)}\")\n",
    "print(f\"change_filters_triggered: {len(change_filters_triggered)}\")\n",
    "print(f\"ids_to_remove: {len(ids_to_remove)}\")\n",
    "print(f\"ids_to_keep: {len(ids_to_keep)}\")"
   ]
  },
  {
   "cell_type": "code",
   "execution_count": 24,
   "metadata": {},
   "outputs": [],
   "source": [
    "# save the useful ids\n",
    "with open(f'../../data/conditions/tinytom-v1/ids_to_keep.txt', 'w') as f:\n",
    "    for i in ids_to_keep:\n",
    "        f.write(f\"{i}\\n\")\n",
    "# save filter values\n",
    "with open(f'../../data/conditions/tinytom-v1/filter_values.txt', 'w') as f:\n",
    "    f.write(f\"tb_thresh: {tb_thresh}\\n\")\n",
    "    f.write(f\"fb_thresh: {fb_thresh}\\n\")\n",
    "    f.write(f\"context_thresh: {context_thresh}\\n\")\n",
    "    f.write(f\"change_thresh: {change_thresh}\\n\")"
   ]
  },
  {
   "cell_type": "markdown",
   "metadata": {},
   "source": [
    "# TinyToM v3.0 with filter\n"
   ]
  },
  {
   "cell_type": "code",
   "execution_count": 41,
   "metadata": {},
   "outputs": [],
   "source": [
    "# read files\n",
    "offset = 0 # converted parts dont exist for the first 50 in a separate file\n",
    "tb3_stories = []\n",
    "fb3_stories = []\n",
    "tt3_parts = {\n",
    "    'context': [],\n",
    "    'change': []\n",
    "}\n",
    "\n",
    "tb3_cond_file  = f'../../data/conditions/tinytom-v3/0_forward_belief_true_belief/converted.txt'\n",
    "fb3_cond_file  = f'../../data/conditions/tinytom-v3/0_forward_belief_false_belief/converted.txt'\n",
    "with open(tb3_cond_file, 'r') as f:\n",
    "    lines = f.readlines()\n",
    "    for l, line in enumerate(lines[offset:]):\n",
    "        tb3_stories.append(line.strip())\n",
    "\n",
    "with open(fb1_cond_file, 'r') as f:\n",
    "    lines = f.readlines()\n",
    "    for l, line in enumerate(lines[offset:]):        \n",
    "        fb3_stories.append(line.strip())\n",
    "\n",
    "path = f'../../data/tinytom/v3/tinytom_converted_parts.txt'\n",
    "\n",
    "with open(path, 'r') as f:\n",
    "    lines = f.readlines()\n",
    "    for l, line in enumerate(lines[offset:]):\n",
    "        context, change, _ = line.strip().split(';')\n",
    "        tt3_parts['context'].append(context)\n",
    "        tt3_parts['change'].append(context + '. ' + change)"
   ]
  },
  {
   "cell_type": "code",
   "execution_count": 42,
   "metadata": {},
   "outputs": [
    {
     "name": "stdout",
     "output_type": "stream",
     "text": [
      "getting ppl for 50 templates\n",
      "getting ppl for 0 to 50/50 templates\n"
     ]
    },
    {
     "name": "stderr",
     "output_type": "stream",
     "text": [
      "Using pad_token, but it is not set yet.\n",
      "100%|██████████| 4/4 [00:23<00:00,  5.94s/it]\n",
      "Using pad_token, but it is not set yet.\n",
      "100%|██████████| 4/4 [00:35<00:00,  8.99s/it]\n",
      "Using pad_token, but it is not set yet.\n",
      "100%|██████████| 4/4 [00:12<00:00,  3.16s/it]\n",
      "Using pad_token, but it is not set yet.\n",
      "100%|██████████| 4/4 [00:21<00:00,  5.30s/it]\n"
     ]
    }
   ],
   "source": [
    "# get ppl of different lists\n",
    "# batch size 50\n",
    "print(f\"getting ppl for {len(tb3_stories)} templates\")\n",
    "tb3_ppl, fb3_ppl, tt3_context_ppl, tt3_change_ppl = [], [], [], []\n",
    "for i in range(0, len(tb3_stories), 50):\n",
    "    print(f\"getting ppl for {i} to {i+50}/{len(tb3_stories)} templates\")\n",
    "    if i + 50 > len(tb3_stories):\n",
    "        batch_tb_stories = tb3_stories[i:]\n",
    "        batch_fb_stories = fb3_stories[i:]\n",
    "        batch_tt_context = tt3_parts['context'][i:]\n",
    "        batch_tt_change = tt3_parts['change'][i:]\n",
    "    else:\n",
    "        batch_tb_stories = tb3_stories[i:i+50]\n",
    "        batch_fb_stories = fb3_stories[i:i+50]\n",
    "        batch_tt_context = tt3_parts['context'][i:i+50]\n",
    "        batch_tt_change = tt3_parts['change'][i:i+50]\n",
    "        \n",
    "    batch_tb_ppl, _ = get_ppl(tb3_stories[i:i+50])\n",
    "    batch_fb_ppl, _ = get_ppl(fb3_stories[i:i+50])\n",
    "    batch_tt_context_ppl, _ = get_ppl(tt3_parts['context'][i:i+50])\n",
    "    batch_tt_change_ppl, _ = get_ppl(tt3_parts['change'][i:i+50])\n",
    "    tb3_ppl+=batch_tb_ppl\n",
    "    fb3_ppl+=batch_fb_ppl\n",
    "    tt3_context_ppl+=batch_tt_context_ppl\n",
    "    tt3_change_ppl+=batch_tt_change_ppl"
   ]
  },
  {
   "cell_type": "code",
   "execution_count": 43,
   "metadata": {},
   "outputs": [
    {
     "name": "stdout",
     "output_type": "stream",
     "text": [
      "tb3_ppl: 25.903128623962402 vs tb1_ppl: 31.13096433272887\n",
      "fb3_ppl: 16.51561086654663 vs fb1_ppl: 29.94750014237142\n",
      "tt3_context_ppl: 21.063324127197266 vs tt1_context_ppl: 19.447871960007603\n",
      "tt3_change_ppl: 28.79307855606079 vs tt1_change_ppl: 32.96632177628915\n"
     ]
    }
   ],
   "source": [
    "# show average perplexity, and compare to v1\n",
    "import numpy as np\n",
    "print(f\"tb3_ppl: {np.mean(tb3_ppl)} vs tb1_ppl: {np.mean(tb1_ppl)}\")\n",
    "print(f\"fb3_ppl: {np.mean(fb3_ppl)} vs fb1_ppl: {np.mean(fb1_ppl)}\")\n",
    "print(f\"tt3_context_ppl: {np.mean(tt3_context_ppl)} vs tt1_context_ppl: {np.mean(tt1_context_ppl)}\")\n",
    "print(f\"tt3_change_ppl: {np.mean(tt3_change_ppl)} vs tt1_change_ppl: {np.mean(tt1_change_ppl)}\")\n"
   ]
  },
  {
   "cell_type": "markdown",
   "metadata": {},
   "source": [
    "# TinyToM v3.0 analysis"
   ]
  },
  {
   "cell_type": "code",
   "execution_count": 44,
   "metadata": {},
   "outputs": [],
   "source": [
    "# filter the templates\n",
    "ids_to_remove, ids_to_keep = [], []\n",
    "change_filters_triggered, context_filters_triggered, tb_filters_triggered, fb_filters_triggered = [], [], [], []\n",
    "for i in range(len(tb3_stories)):\n",
    "    if tb3_ppl[i] > tb_thresh:\n",
    "        tb_filters_triggered.append(i) \n",
    "    elif fb3_ppl[i] > fb_thresh:\n",
    "        fb_filters_triggered.append(i)\n",
    "    elif tt3_context_ppl[i] > context_thresh:\n",
    "        context_filters_triggered.append(i)\n",
    "    elif tt3_change_ppl[i] > change_thresh:\n",
    "        change_filters_triggered.append(i)\n",
    "    else:\n",
    "        ids_to_keep.append(i)\n",
    "        continue\n",
    "    ids_to_remove.append(i)"
   ]
  },
  {
   "cell_type": "code",
   "execution_count": 45,
   "metadata": {},
   "outputs": [],
   "source": [
    "# filter the templates\n",
    "ids_to_remove, ids_to_keep = [], []\n",
    "change_filters_triggered, context_filters_triggered, tb_filters_triggered, fb_filters_triggered = [], [], [], []\n",
    "for i in range(len(tb3_stories)):\n",
    "    if tb3_ppl[i] > tb_thresh:\n",
    "        tb_filters_triggered.append(i) \n",
    "    elif fb3_ppl[i] > fb_thresh:\n",
    "        fb_filters_triggered.append(i)\n",
    "    elif tt3_context_ppl[i] > context_thresh:\n",
    "        context_filters_triggered.append(i)\n",
    "    elif tt3_change_ppl[i] > change_thresh:\n",
    "        change_filters_triggered.append(i)\n",
    "    else:\n",
    "        ids_to_keep.append(i)\n",
    "        continue\n",
    "    ids_to_remove.append(i)"
   ]
  },
  {
   "cell_type": "code",
   "execution_count": 46,
   "metadata": {},
   "outputs": [
    {
     "name": "stdout",
     "output_type": "stream",
     "text": [
      "tb_filters_triggered: 25\n",
      "fb_filters_triggered: 5\n",
      "context_filters_triggered: 11\n",
      "change_filters_triggered: 0\n",
      "ids_to_remove: 41\n",
      "ids_to_keep: 9\n"
     ]
    }
   ],
   "source": [
    "# print results\n",
    "print(f\"tb_filters_triggered: {len(tb_filters_triggered)}\")\n",
    "print(f\"fb_filters_triggered: {len(fb_filters_triggered)}\")\n",
    "print(f\"context_filters_triggered: {len(context_filters_triggered)}\")\n",
    "print(f\"change_filters_triggered: {len(change_filters_triggered)}\")\n",
    "print(f\"ids_to_remove: {len(ids_to_remove)}\")\n",
    "print(f\"ids_to_keep: {len(ids_to_keep)}\")"
   ]
  },
  {
   "cell_type": "code",
   "execution_count": null,
   "metadata": {},
   "outputs": [],
   "source": [
    "# save the useful ids\n",
    "with open(f'../../data/conditions/tinytom-v3/ids_to_keep.txt', 'w') as f:\n",
    "    for i in ids_to_keep:\n",
    "        f.write(f\"{i}\\n\")\n",
    "# save filter values\n",
    "with open(f'../../data/conditions/tinytom-v3/filter_values.txt', 'w') as f:\n",
    "    f.write(f\"tb_thresh: {tb_thresh}\\n\")\n",
    "    f.write(f\"fb_thresh: {fb_thresh}\\n\")\n",
    "    f.write(f\"context_thresh: {context_thresh}\\n\")\n",
    "    f.write(f\"change_thresh: {change_thresh}\\n\")"
   ]
  },
  {
   "cell_type": "markdown",
   "metadata": {},
   "source": []
  }
 ],
 "metadata": {
  "kernelspec": {
   "display_name": "marple",
   "language": "python",
   "name": "python3"
  },
  "language_info": {
   "codemirror_mode": {
    "name": "ipython",
    "version": 3
   },
   "file_extension": ".py",
   "mimetype": "text/x-python",
   "name": "python",
   "nbconvert_exporter": "python",
   "pygments_lexer": "ipython3",
   "version": "3.10.9"
  },
  "orig_nbformat": 4
 },
 "nbformat": 4,
 "nbformat_minor": 2
}
